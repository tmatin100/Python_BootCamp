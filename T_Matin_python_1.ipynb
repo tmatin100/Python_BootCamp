{
  "nbformat": 4,
  "nbformat_minor": 0,
  "metadata": {
    "colab": {
      "name": "T.Matin-python-1.ipynb",
      "provenance": [],
      "collapsed_sections": [],
      "authorship_tag": "ABX9TyOu8RAtqvRfLaWSiuKVgMKY",
      "include_colab_link": true
    },
    "kernelspec": {
      "name": "python3",
      "display_name": "Python 3"
    },
    "language_info": {
      "name": "python"
    }
  },
  "cells": [
    {
      "cell_type": "markdown",
      "metadata": {
        "id": "view-in-github",
        "colab_type": "text"
      },
      "source": [
        "<a href=\"https://colab.research.google.com/github/tmatin100/Python_BootCamp/blob/main/T_Matin_python_1.ipynb\" target=\"_parent\"><img src=\"https://colab.research.google.com/assets/colab-badge.svg\" alt=\"Open In Colab\"/></a>"
      ]
    },
    {
      "cell_type": "markdown",
      "source": [
        ""
      ],
      "metadata": {
        "id": "VBvdzExTScoD"
      }
    },
    {
      "cell_type": "markdown",
      "metadata": {
        "id": "yZIKFr26sEMF"
      },
      "source": [
        "# Introduction to Python\n",
        "\n",
        "[Python Website](https://www.python.org/).  \n",
        "\n",
        "[Python Brochure](https://brochure.getpython.info/)\n",
        "\n",
        "Few important things about Python.  \n",
        "\n",
        "*   Python is very lean\n",
        "*   Python is cross platform - runs through an interpreter\n",
        "*   Versatile - Unlimitted packages on PyPI (Python Package Index)\n",
        "*   Established (20 yrs+) but still fresh\n",
        "\n",
        "Foundational to Google.  \n",
        "Used by services like bit.ly. \n",
        "SurveyMonkey.  \n",
        "scientific computing for aerospace research and particle research at CERN.  \n",
        "and literally like a million other exammples given.  \n",
        "\n",
        "Ideal for automation, web development, scientific computing, and big data + ML. "
      ]
    },
    {
      "cell_type": "markdown",
      "source": [
        "# Important takeways:\n",
        "\n",
        "A **module** allows us to import existing code to use in our project. \n",
        "\n",
        "A module is an **object**, and objects have **members**.\n",
        "\n",
        "The two member types are **methods** and **attributes**.\n",
        "\n",
        "**Methods** are the same as functions like we talked about in the previous episode, but they are attached to objects and need the dot operator to be invoked. \n",
        "\n",
        "Data is **passed** in to the method as an argument.\n",
        "\n",
        "**Methods** have the ability to **return** data, which can then be assigned to a variable. \n",
        "\n",
        "requests.get() returns a response, which is an object with its own members. "
      ],
      "metadata": {
        "id": "nPgntOANSr-O"
      }
    },
    {
      "cell_type": "code",
      "source": [
        "#Let's import the request library so we can use it to get https data byt using the .get() method\n",
        "\n",
        "import requests\n",
        "\n",
        "#assign a variable named response to it \n",
        "response = requests.get('https://uselessfacts.jsph.pl/random.json?language=en')\n",
        "\n",
        "#print the response code which should give us a cod of 200 if its sucessfull.\n",
        "print(response)\n",
        "\n",
        "#print the content in text format\n",
        "print(response.text)\n",
        "\n",
        "#check the data type, which is string\n",
        "print(type(response.text))"
      ],
      "metadata": {
        "colab": {
          "base_uri": "https://localhost:8080/"
        },
        "id": "EoYCReI1UkAQ",
        "outputId": "fea85d2e-8351-41e8-bf79-3926e0e827dc"
      },
      "execution_count": 244,
      "outputs": [
        {
          "output_type": "stream",
          "name": "stdout",
          "text": [
            "<Response [200]>\n",
            "{\"id\":\"b03ae1ea-c39a-47a3-928d-40fae0c797f2\",\"text\":\"There are more plastic flamingos in the U.S that there are real ones.\",\"source\":\"djtech.net\",\"source_url\":\"http:\\/\\/www.djtech.net\\/humor\\/useless_facts.htm\",\"language\":\"en\",\"permalink\":\"https:\\/\\/uselessfacts.jsph.pl\\/b03ae1ea-c39a-47a3-928d-40fae0c797f2\"}\n",
            "<class 'str'>\n"
          ]
        }
      ]
    },
    {
      "cell_type": "markdown",
      "source": [
        "We can also display without the print() function as the code is executed in interactive mode:"
      ],
      "metadata": {
        "id": "n60_o0ZtSb0f"
      }
    },
    {
      "cell_type": "code",
      "source": [
        "response.text"
      ],
      "metadata": {
        "colab": {
          "base_uri": "https://localhost:8080/",
          "height": 70
        },
        "id": "iPUWe6rSToLm",
        "outputId": "fd092219-4c20-4ad4-a487-3c2724a0b8cb"
      },
      "execution_count": 243,
      "outputs": [
        {
          "output_type": "execute_result",
          "data": {
            "text/plain": [
              "'{\"id\":\"809c485d-be64-4ec8-a59c-f8e55f859e9d\",\"text\":\"Dr. Jack Kevorkian first patient has Alzheimer`s disease.\",\"source\":\"djtech.net\",\"source_url\":\"http:\\\\/\\\\/www.djtech.net\\\\/humor\\\\/useless_facts.htm\",\"language\":\"en\",\"permalink\":\"https:\\\\/\\\\/uselessfacts.jsph.pl\\\\/809c485d-be64-4ec8-a59c-f8e55f859e9d\"}'"
            ],
            "application/vnd.google.colaboratory.intrinsic+json": {
              "type": "string"
            }
          },
          "metadata": {},
          "execution_count": 243
        }
      ]
    },
    {
      "cell_type": "markdown",
      "source": [
        ""
      ],
      "metadata": {
        "id": "aBZFDTRqWAe-"
      }
    },
    {
      "cell_type": "code",
      "source": [
        "#Let's make a request to an api and get the response in json/english format\n",
        "import requests\n",
        "\n",
        "# we can use the get method to quiery information for an url using paramters for the language in engilsh\n",
        "response = requests.get('https://uselessfacts.jsph.pl/random.json?language=en')\n",
        "\n",
        "#print the response in text format \n",
        "print(response.text)\n"
      ],
      "metadata": {
        "colab": {
          "base_uri": "https://localhost:8080/"
        },
        "id": "CM9OO_gWXAJY",
        "outputId": "fcbb0627-0ef2-4f54-c711-cc5e01b86acd"
      },
      "execution_count": 245,
      "outputs": [
        {
          "output_type": "stream",
          "name": "stdout",
          "text": [
            "{\"id\":\"9603f7de-70c3-4ab7-9da2-1d798100a765\",\"text\":\"American Airlines saved $40,000 in 1987 by eliminating one olive from each salad served in first-class.\",\"source\":\"djtech.net\",\"source_url\":\"http:\\/\\/www.djtech.net\\/humor\\/useless_facts.htm\",\"language\":\"en\",\"permalink\":\"https:\\/\\/uselessfacts.jsph.pl\\/9603f7de-70c3-4ab7-9da2-1d798100a765\"}\n"
          ]
        }
      ]
    },
    {
      "cell_type": "markdown",
      "source": [
        "Below we go through a variation of the above code. In this example we define our query parameters in a separate dictionary. These are then passed as an argument to the params parameter of requests.get().\n",
        "\n",
        "We also use response.json() instead of response.text to get the response data as a dictionary.\n",
        "\n",
        "Python dictionaries have a .get() method that can be used to grab a particular element, such as 'text' (this value depends on the API we are consuming)"
      ],
      "metadata": {
        "id": "QmY3UNqKUV5o"
      }
    },
    {
      "cell_type": "code",
      "source": [
        "query = {\n",
        "    'language':'en'\n",
        "}\n",
        "\n",
        "response = requests.get('https://uselessfacts.jsph.pl/random.json', params=query)\n",
        "\n",
        "print(response.text)\n",
        "print(type(response.text))\n",
        "print('')\n",
        "\n",
        "#json data is immediatley avaialbe as a dictionary in python\n",
        "print(response.json())\n",
        "print(type(response.json()))\n",
        "print('')\n",
        "\n",
        "#we can request specefic portion of the json data by useing the .get method\n",
        "print(response.json().get('text'))\n",
        "print('')\n",
        "\n",
        "#we can also ivoke the .json and .get methods in the same request code\n",
        "print(requests.get('https://uselessfacts.jsph.pl/random.json', params=query).json().get('text'))\n",
        "\n"
      ],
      "metadata": {
        "colab": {
          "base_uri": "https://localhost:8080/"
        },
        "id": "zpgU4upXZtYG",
        "outputId": "8a9351a4-c925-4829-c6f3-3f172711b160"
      },
      "execution_count": 246,
      "outputs": [
        {
          "output_type": "stream",
          "name": "stdout",
          "text": [
            "{\"id\":\"011f6c78-0002-4b32-ba8f-31976c4b139e\",\"text\":\"It takes about 142.18 licks to reach the center of a Tootsie pop.\",\"source\":\"djtech.net\",\"source_url\":\"http:\\/\\/www.djtech.net\\/humor\\/useless_facts.htm\",\"language\":\"en\",\"permalink\":\"https:\\/\\/uselessfacts.jsph.pl\\/011f6c78-0002-4b32-ba8f-31976c4b139e\"}\n",
            "<class 'str'>\n",
            "\n",
            "{'id': '011f6c78-0002-4b32-ba8f-31976c4b139e', 'text': 'It takes about 142.18 licks to reach the center of a Tootsie pop.', 'source': 'djtech.net', 'source_url': 'http://www.djtech.net/humor/useless_facts.htm', 'language': 'en', 'permalink': 'https://uselessfacts.jsph.pl/011f6c78-0002-4b32-ba8f-31976c4b139e'}\n",
            "<class 'dict'>\n",
            "\n",
            "It takes about 142.18 licks to reach the center of a Tootsie pop.\n",
            "\n",
            "The fingerprints of koala bears are virtually indistinguishable from those of humans, so much so that they can be easily confused at a crime scene.\n"
          ]
        }
      ]
    },
    {
      "cell_type": "markdown",
      "source": [
        "# Data Structures\n",
        "The important ones are **lists**, dictionaries, and sets\n",
        "\n",
        "\n",
        "##List\n"
      ],
      "metadata": {
        "id": "kNpTVIBZo0Hc"
      }
    },
    {
      "cell_type": "code",
      "source": [
        "data = ['Aakash','Anik', 'Ovik']\n",
        "\n",
        "#print the entire list \n",
        "print(data)\n",
        "\n",
        "#print each items int he list by it's index strting from 0 which is the first item. \n",
        "print(data[0])\n",
        "print(data[1])\n",
        "print(data[2])\n",
        "\n",
        "#add add a string item to the list \n",
        "data.append('Asif')\n",
        "\n",
        "#add a nested list to the list \n",
        "data.append(['hello'])\n",
        "\n",
        "print(data)\n",
        "\n",
        "#add an integer to the list \n",
        "data.append(5)\n",
        "\n",
        "print(data)"
      ],
      "metadata": {
        "colab": {
          "base_uri": "https://localhost:8080/"
        },
        "id": "nkfXDJxQpUWZ",
        "outputId": "339b5174-69d8-4f28-9da6-f7501bac65e7"
      },
      "execution_count": 247,
      "outputs": [
        {
          "output_type": "stream",
          "name": "stdout",
          "text": [
            "['Aakash', 'Anik', 'Ovik']\n",
            "Aakash\n",
            "Anik\n",
            "Ovik\n",
            "['Aakash', 'Anik', 'Ovik', 'Asif', ['hello']]\n",
            "['Aakash', 'Anik', 'Ovik', 'Asif', ['hello'], 5]\n"
          ]
        }
      ]
    },
    {
      "cell_type": "markdown",
      "source": [
        "#Slicing a list \n",
        "\n",
        "[1:4:3]\n",
        "\n",
        "First number - starting position (inclusive)\n",
        "\n",
        "Second number - stoppint position (exclusive)\n",
        "\n",
        "Third number - step\n"
      ],
      "metadata": {
        "id": "VHQOa3I9xqhe"
      }
    },
    {
      "cell_type": "code",
      "source": [
        "#Let's create a new list replacing the old one\n",
        "\n",
        "data = ['Robiul', 'Yawer', 'Milton', 'Ershad']\n",
        "\n",
        "#print the second element starting from 0, so the second element in the list is at index 1 (Yawer)\n",
        "print(data[1])\n",
        "\n",
        "#print by starting index 1 and stop stopting at index 3 and then 4\n",
        "print(data[1:3])\n",
        "print(data[1:4])\n",
        "\n",
        "# start at the beginng of the list and print everything untill the stopint point, 4 in this case\n",
        "print(data[:4])\n",
        "\n",
        "#print from starting point to all the way to the end of the list\n",
        "print(data[1:])\n",
        "\n",
        "#print the entire list \n",
        "print(data[:])\n",
        "\n",
        "#print by start, stop and a step interval\n",
        "print(data[1:4:2])\n",
        "\n"
      ],
      "metadata": {
        "colab": {
          "base_uri": "https://localhost:8080/"
        },
        "id": "bRlBdywCyLoP",
        "outputId": "e5c53628-903a-4119-afe4-3de0c7a55113"
      },
      "execution_count": 248,
      "outputs": [
        {
          "output_type": "stream",
          "name": "stdout",
          "text": [
            "Yawer\n",
            "['Yawer', 'Milton']\n",
            "['Yawer', 'Milton', 'Ershad']\n",
            "['Robiul', 'Yawer', 'Milton', 'Ershad']\n",
            "['Yawer', 'Milton', 'Ershad']\n",
            "['Robiul', 'Yawer', 'Milton', 'Ershad']\n",
            "['Yawer', 'Ershad']\n"
          ]
        }
      ]
    },
    {
      "cell_type": "markdown",
      "source": [
        "#Set\n",
        "A set is just like a list, except the order of the itmes does not matter as it will change in the output, and it does not allow any duplicate data. \n"
      ],
      "metadata": {
        "id": "e74DXHkQ0f9M"
      }
    },
    {
      "cell_type": "code",
      "source": [
        "data = {'Robiul', 'Yawer', 'Milton', 'Ershad', 'Imtiaz', 'Imtiaz'}\n",
        "print(data)\n"
      ],
      "metadata": {
        "colab": {
          "base_uri": "https://localhost:8080/"
        },
        "id": "M0SbFXnA1FAs",
        "outputId": "b2d56ccc-1a5f-4e74-a94b-cce4fc99b489"
      },
      "execution_count": 249,
      "outputs": [
        {
          "output_type": "stream",
          "name": "stdout",
          "text": [
            "{'Yawer', 'Ershad', 'Imtiaz', 'Milton', 'Robiul'}\n"
          ]
        }
      ]
    },
    {
      "cell_type": "markdown",
      "source": [
        "#Dictionary\n",
        "Uses a key value pair \n",
        "\n"
      ],
      "metadata": {
        "id": "vNstCVyA2rC6"
      }
    },
    {
      "cell_type": "code",
      "source": [
        "data_dictionary = {\n",
        "    'Robiul' : 10,\n",
        "    'Yawer' :  20,\n",
        "    'Milton' : 30,\n",
        "    'Washim' : 40,\n",
        "    'Ershad' : 50,\n",
        "    'Imtiaz' : 60,\n",
        "}\n",
        "\n",
        "print(data_dictionary)\n",
        "print(\" \")\n",
        "\n",
        "#as mentioned before dcitionaries are easily convirtble to json data, we can actually \n",
        "#use a get method to fetch the value of the data by it's key.\n",
        "\n",
        "print(data_dictionary.get('Milton'))"
      ],
      "metadata": {
        "colab": {
          "base_uri": "https://localhost:8080/"
        },
        "id": "ezTgokK73X8z",
        "outputId": "78330fad-8424-46ae-e9ce-f862f75284b6"
      },
      "execution_count": 250,
      "outputs": [
        {
          "output_type": "stream",
          "name": "stdout",
          "text": [
            "{'Robiul': 10, 'Yawer': 20, 'Milton': 30, 'Washim': 40, 'Ershad': 50, 'Imtiaz': 60}\n",
            " \n",
            "30\n"
          ]
        }
      ]
    },
    {
      "cell_type": "markdown",
      "source": [
        "# Control flow - Loops and Conditionals \n",
        "\n"
      ],
      "metadata": {
        "id": "oxt_KGMM50Yt"
      }
    },
    {
      "cell_type": "markdown",
      "source": [
        "##For Loops "
      ],
      "metadata": {
        "id": "gVluQq9j5-aH"
      }
    },
    {
      "cell_type": "code",
      "source": [
        "data = ['a','b','c','d','e']\n",
        "\n",
        "\n",
        "for i in range(10):\n",
        "  print(i)\n",
        "\n",
        "print(\"\")    #printing empty spaces to sperate the output for better readabilty\n",
        "\n",
        "#print all the elements in the list\n",
        "for i in range(5):\n",
        "  print(data[i])\n",
        "\n",
        "print(\"\")\n",
        "\n",
        "#print the lenth of the list\n",
        "print(len(data))\n",
        "print(\"\")\n",
        "\n",
        "#print the items based on the length of the collection,\n",
        "#so we dont have to hard code the range value 5 like we did before.\n",
        "for i in range(len(data)):\n",
        "  print(data[i])\n",
        "\n",
        "print(\"\")\n",
        "\n",
        "#there is a better way to do this\n",
        "for letter in data:\n",
        "  print(letter)\n",
        "print(\"\")\n",
        "\n",
        "#so far we have itterated thourgh the range, lenth of a range, and a list (data) directly\n",
        "#sets are also iterable. Behind the scene, any thing that im plements a particular method\n",
        "# __iter__(), can be used in a loop. \n",
        "\n",
        "data = {'Robiul', 'Yawer', 'Milton', 'Washim', 'Ershad',  'Imtiaz', 'Imtiaz'}\n",
        "\n",
        "for letter in data:\n",
        "    print(letter)\n",
        "\n",
        "print(\"\")\n",
        "\n",
        "# we can use the enumarte function to get the index and it's value\n",
        "\n",
        "data = ['a','b','c','d','e']\n",
        "\n",
        "#withouth enumarte function\n",
        "for letter in data:\n",
        "    print(letter)\n",
        "\n",
        "print(\"\")\n",
        "\n",
        "#with enumarte function\n",
        "for i, letter in enumerate(data):\n",
        "  print(i, letter)\n",
        "\n",
        "\n"
      ],
      "metadata": {
        "colab": {
          "base_uri": "https://localhost:8080/"
        },
        "id": "kYBD0Vg46KlL",
        "outputId": "4560e02d-6185-4b7c-aca3-52c666ccfcda"
      },
      "execution_count": 251,
      "outputs": [
        {
          "output_type": "stream",
          "name": "stdout",
          "text": [
            "0\n",
            "1\n",
            "2\n",
            "3\n",
            "4\n",
            "5\n",
            "6\n",
            "7\n",
            "8\n",
            "9\n",
            "\n",
            "a\n",
            "b\n",
            "c\n",
            "d\n",
            "e\n",
            "\n",
            "5\n",
            "\n",
            "a\n",
            "b\n",
            "c\n",
            "d\n",
            "e\n",
            "\n",
            "a\n",
            "b\n",
            "c\n",
            "d\n",
            "e\n",
            "\n",
            "Washim\n",
            "Yawer\n",
            "Ershad\n",
            "Imtiaz\n",
            "Milton\n",
            "Robiul\n",
            "\n",
            "a\n",
            "b\n",
            "c\n",
            "d\n",
            "e\n",
            "\n",
            "0 a\n",
            "1 b\n",
            "2 c\n",
            "3 d\n",
            "4 e\n"
          ]
        }
      ]
    },
    {
      "cell_type": "code",
      "source": [
        ""
      ],
      "metadata": {
        "id": "Nl086NAQDjcE"
      },
      "execution_count": null,
      "outputs": []
    },
    {
      "cell_type": "markdown",
      "source": [
        "## While Loop"
      ],
      "metadata": {
        "id": "YLiRNGB6AhZ1"
      }
    },
    {
      "cell_type": "code",
      "source": [
        "data = ['a','b','c','d','e']\n",
        "\n",
        "#for while loops we set an iteration variable \n",
        "i = 0 \n",
        "\n",
        "while i < len(data):         # we have acdition of when to stop, which is i < lenth of the data\n",
        "  print(data[i], end=\" \")\n",
        "  i += 1                     # increase the value of the variale after each iteration\n",
        "\n",
        "\n",
        "while True: \n",
        "  x = input()\n",
        "  if x == \"stop\":\n",
        "    break                 #stops the while loop\n",
        "  elif x == \"special\":\n",
        "    continue              # skips the next steps and continues with the loop\n",
        "  else: \n",
        "    print(\"it wasn't stop or special\")\n",
        "  print(\"printing data...\")\n",
        "\n"
      ],
      "metadata": {
        "colab": {
          "base_uri": "https://localhost:8080/"
        },
        "id": "eRY1D0CkAnB4",
        "outputId": "ae0d87eb-ff31-40e7-e60e-1bc48659c094"
      },
      "execution_count": 252,
      "outputs": [
        {
          "name": "stdout",
          "output_type": "stream",
          "text": [
            "a b c d e hi\n",
            "it wasn't stop or special\n",
            "printing data...\n",
            "hello\n",
            "it wasn't stop or special\n",
            "printing data...\n",
            "special\n",
            "whats going on? \n",
            "it wasn't stop or special\n",
            "printing data...\n",
            "stop\n"
          ]
        }
      ]
    },
    {
      "cell_type": "markdown",
      "source": [
        "#Iterating though a Dictionary\n"
      ],
      "metadata": {
        "id": "KK7IVDk7DhAZ"
      }
    },
    {
      "cell_type": "code",
      "source": [
        "\n",
        "#Let's create a dictionary with some data, in a key:value pair format\n",
        "data_dictionary = {\n",
        "   10: 'Robiul',\n",
        "   20: 'Yawer',\n",
        "   30: 'Milton',\n",
        "   40: 'Washim',\n",
        "   50: 'Ershad',\n",
        "   60: 'Imtiaz',\n",
        "}\n",
        "\n",
        "#print the dicitonary \n",
        "print(data_dictionary)  \n",
        "\n",
        "print(\"\")\n",
        "\n",
        "# we can itterate through a dictionary using a for loop and .items() mehtod\n",
        "for key, value in data_dictionary.items():\n",
        "  print(key,value)\n",
        "\n",
        "\n",
        "print(\"\")\n",
        "\n",
        "# can also check for things by its key or value.\n",
        "for key, value in data_dictionary.items():\n",
        "  if value == 'Milton': \n",
        "    print('we found Milton!!!')\n",
        "    break\n",
        "  print(key,value)\n"
      ],
      "metadata": {
        "colab": {
          "base_uri": "https://localhost:8080/"
        },
        "id": "9J_7H1ugDlYY",
        "outputId": "ea1975ad-bc4a-45e6-b96a-afbb5cce1b4e"
      },
      "execution_count": 253,
      "outputs": [
        {
          "output_type": "stream",
          "name": "stdout",
          "text": [
            "{10: 'Robiul', 20: 'Yawer', 30: 'Milton', 40: 'Washim', 50: 'Ershad', 60: 'Imtiaz'}\n",
            "\n",
            "10 Robiul\n",
            "20 Yawer\n",
            "30 Milton\n",
            "40 Washim\n",
            "50 Ershad\n",
            "60 Imtiaz\n",
            "\n",
            "10 Robiul\n",
            "20 Yawer\n",
            "we found Milton!!!\n"
          ]
        }
      ]
    },
    {
      "cell_type": "markdown",
      "source": [
        "#Guessing game\n",
        "\n",
        "Generate a a random number module \n",
        "\n",
        "do while\n",
        "\n",
        "do something once-pssibly repeat it\n",
        "\n",
        "Ask us for a number. Ifwe get it wrong, ask again. \n",
        "\n",
        "logic for rigt/wrong: guessed == correct value \n",
        "\n",
        "\n"
      ],
      "metadata": {
        "id": "mNn31MsFKKUn"
      }
    },
    {
      "cell_type": "code",
      "source": [
        "#lets import the random module \n",
        "from random import randint\n",
        "\n",
        "#assigh variables for low and high range.\n",
        "low = 0\n",
        "high = 100\n",
        "\n",
        "#print a random number between 0 to 100 and assign it to a variable \n",
        "correct = randint(low, high)\n",
        "\n",
        "print(f'Guess an number between {low} and {high}.')\n",
        "\n",
        "\n",
        "while True: \n",
        "  # do something\n",
        "  # check to see if we should do it again\n",
        "  guess = int(input())\n",
        "  # print(guess, correct)\n",
        "  # print(type(guess), type(correct))\n",
        "  if guess < correct: \n",
        "    print(\"Guess higher\")\n",
        "  elif guess > correct: \n",
        "    print(\"Guess lower\")\n",
        "  else: \n",
        "    print(\"Well done! You win!!!! \")\n",
        "    break\n",
        "\n",
        "#Whats the best way to take your first gusess? start in the middle of the range which is 50. \n",
        "#0(n)- operation splits in half. this is a binary search algorhythm."
      ],
      "metadata": {
        "colab": {
          "base_uri": "https://localhost:8080/"
        },
        "id": "n5ikwYVkKrCL",
        "outputId": "34513fd7-7033-4c1e-c16b-2f8d541d9f1c"
      },
      "execution_count": 254,
      "outputs": [
        {
          "output_type": "stream",
          "name": "stdout",
          "text": [
            "Guess an number between 0 and 100.\n",
            "50\n",
            "Guess lower\n",
            "25\n",
            "Guess higher\n",
            "40\n",
            "Guess higher\n",
            "45\n",
            "Guess lower\n",
            "43\n",
            "Guess higher\n",
            "44\n",
            "Well done! You win!!!! \n"
          ]
        }
      ]
    }
  ]
}