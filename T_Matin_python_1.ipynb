{
  "nbformat": 4,
  "nbformat_minor": 0,
  "metadata": {
    "colab": {
      "name": "T.Matin-python-1.ipynb",
      "provenance": [],
      "collapsed_sections": [],
      "authorship_tag": "ABX9TyMlehPOQRsZiHsrDur+FPnt",
      "include_colab_link": true
    },
    "kernelspec": {
      "name": "python3",
      "display_name": "Python 3"
    },
    "language_info": {
      "name": "python"
    }
  },
  "cells": [
    {
      "cell_type": "markdown",
      "metadata": {
        "id": "view-in-github",
        "colab_type": "text"
      },
      "source": [
        "<a href=\"https://colab.research.google.com/github/tmatin100/Python_BootCamp/blob/main/T_Matin_python_1.ipynb\" target=\"_parent\"><img src=\"https://colab.research.google.com/assets/colab-badge.svg\" alt=\"Open In Colab\"/></a>"
      ]
    },
    {
      "cell_type": "markdown",
      "source": [
        ""
      ],
      "metadata": {
        "id": "VBvdzExTScoD"
      }
    },
    {
      "cell_type": "markdown",
      "metadata": {
        "id": "yZIKFr26sEMF"
      },
      "source": [
        "# Introduction to Python\n",
        "\n",
        "[Python Website](https://www.python.org/).  \n",
        "\n",
        "[Python Brochure](https://brochure.getpython.info/)\n",
        "\n",
        "Few important things about Python.  \n",
        "\n",
        "*   Python is very lean\n",
        "*   Python is cross platform - runs through an interpreter\n",
        "*   Versatile - Unlimitted packages on PyPI (Python Package Index)\n",
        "*   Established (20 yrs+) but still fresh\n",
        "\n",
        "Foundational to Google.  \n",
        "Used by services like bit.ly. \n",
        "SurveyMonkey.  \n",
        "scientific computing for aerospace research and particle research at CERN.  \n",
        "and literally like a million other exammples given.  \n",
        "\n",
        "Ideal for automation, web development, scientific computing, and big data + ML. "
      ]
    },
    {
      "cell_type": "markdown",
      "source": [
        "# Important takeways:\n",
        "\n",
        "A **module** allows us to import existing code to use in our project. \n",
        "\n",
        "A module is an **object**, and objects have **members**.\n",
        "\n",
        "The two member types are **methods** and **attributes**.\n",
        "\n",
        "**Methods** are the same as functions like we talked about in the previous episode, but they are attached to objects and need the dot operator to be invoked. \n",
        "\n",
        "Data is **passed** in to the method as an argument.\n",
        "\n",
        "**Methods** have the ability to **return** data, which can then be assigned to a variable. \n",
        "\n",
        "requests.get() returns a response, which is an object with its own members. "
      ],
      "metadata": {
        "id": "nPgntOANSr-O"
      }
    },
    {
      "cell_type": "code",
      "source": [
        "#Let's import the request library so we can use it to get https data byt using the .get() method\n",
        "\n",
        "import requests\n",
        "\n",
        "#assign a variable named response to it \n",
        "response = requests.get('https://www.google.com')\n",
        "\n",
        "#print the response code which should give us a cod of 200 if its sucessfull.\n",
        "print(response)\n",
        "\n",
        "#print the content in text format\n",
        "print(response.text)\n",
        "\n",
        "#check the data type, which is string\n",
        "print(type(response.text))"
      ],
      "metadata": {
        "colab": {
          "base_uri": "https://localhost:8080/"
        },
        "id": "EoYCReI1UkAQ",
        "outputId": "316ea5aa-f2b4-451a-a4e3-9ddabbb322cb"
      },
      "execution_count": 240,
      "outputs": [
        {
          "output_type": "stream",
          "name": "stdout",
          "text": [
            "<Response [200]>\n",
            "<!doctype html><html itemscope=\"\" itemtype=\"http://schema.org/WebPage\" lang=\"zh-TW\"><head><meta content=\"text/html; charset=UTF-8\" http-equiv=\"Content-Type\"><meta content=\"/images/branding/googleg/1x/googleg_standard_color_128dp.png\" itemprop=\"image\"><title>Google</title><script nonce=\"r1n1Kmv+BRKhBV9ZY9D1mg==\">(function(){window.google={kEI:'46E3Yv6DOpGVr7wP7_2UgAI',kEXPI:'0,18167,1284369,56873,6058,207,2414,2390,2316,383,246,5,1353,4014,1238,1122515,1197792,602,28,16,302524,77528,16115,17444,11240,17572,4859,1361,9290,3027,17582,4998,13228,3847,4192,6430,14763,7978,5081,1593,1279,2453,289,149,1103,840,1983,4314,3514,606,2023,2297,14670,3227,2846,6,5599,11851,16320,1851,2614,13142,3,346,230,6459,149,12314,1661,4,1528,2304,17528,9820,4764,2658,6536,821,30,13628,13795,7428,652,5145,2560,4094,4052,3,3541,1,16807,25347,2,14022,1931,4317,1272,744,5852,10463,1160,5679,1020,2381,2718,18261,2,6,1679,6075,4569,6255,2963,3763,16695,1252,5835,11862,3105,1539,2794,20,4657,1412,1395,445,2,2,1,6394,4396,167,1541,586,10665,1030,1406,10,1,436,8155,113,804,1649,986,2085,945,323,475,1,462,2,2579,3550,3878,421,3038,750,1007,556,324,3614,663,1177,2204,866,214,137,2,6,874,318,1450,2,1,2747,3082,15,70,163,203,2206,416,2,620,321,465,2,1876,2394,498,261,672,920,843,1706,607,49,2,73,5,675,849,50,46,231,500,574,167,1572,239,1308,660,986,322,153,5460203,859,340,8796812,882,444,3,1877,1,2562,1,748,141,795,563,1,4265,1,1,2,1331,4142,2609,155,17,13,72,139,4,2,20,2,169,13,19,46,5,39,96,548,29,2,2,1,2,1,2,2,7,4,1,2,2,2,2,2,2,353,513,186,1,1,158,3,2,2,2,2,2,4,2,3,3,269,1601,141,1002,144,4,18,31,6,30,1,31,23951713,4038575,3,3112,3,450,1964,1491,9,1435,159,1358,4726,3,923,32,3,1704,2,3333,2441,709,474,159,642',kBL:'_N6h'};google.sn='webhp';google.kHL='zh-TW';})();(function(){\n",
            "var f=this||self;var h,k=[];function l(a){for(var b;a&&(!a.getAttribute||!(b=a.getAttribute(\"eid\")));)a=a.parentNode;return b||h}function m(a){for(var b=null;a&&(!a.getAttribute||!(b=a.getAttribute(\"leid\")));)a=a.parentNode;return b}\n",
            "function n(a,b,c,d,g){var e=\"\";c||-1!==b.search(\"&ei=\")||(e=\"&ei=\"+l(d),-1===b.search(\"&lei=\")&&(d=m(d))&&(e+=\"&lei=\"+d));d=\"\";!c&&f._cshid&&-1===b.search(\"&cshid=\")&&\"slh\"!==a&&(d=\"&cshid=\"+f._cshid);c=c||\"/\"+(g||\"gen_204\")+\"?atyp=i&ct=\"+a+\"&cad=\"+b+e+\"&zx=\"+Date.now()+d;/^http:/i.test(c)&&\"https:\"===window.location.protocol&&(google.ml&&google.ml(Error(\"a\"),!1,{src:c,glmm:1}),c=\"\");return c};h=google.kEI;google.getEI=l;google.getLEI=m;google.ml=function(){return null};google.log=function(a,b,c,d,g){if(c=n(a,b,c,d,g)){a=new Image;var e=k.length;k[e]=a;a.onerror=a.onload=a.onabort=function(){delete k[e]};a.src=c}};google.logUrl=n;}).call(this);(function(){\n",
            "google.y={};google.sy=[];google.x=function(a,b){if(a)var c=a.id;else{do c=Math.random();while(google.y[c])}google.y[c]=[a,b];return!1};google.sx=function(a){google.sy.push(a)};google.lm=[];google.plm=function(a){google.lm.push.apply(google.lm,a)};google.lq=[];google.load=function(a,b,c){google.lq.push([[a],b,c])};google.loadAll=function(a,b){google.lq.push([a,b])};google.bx=!1;google.lx=function(){};}).call(this);google.f={};(function(){\n",
            "document.documentElement.addEventListener(\"submit\",function(b){var a;if(a=b.target){var c=a.getAttribute(\"data-submitfalse\");a=\"1\"===c||\"q\"===c&&!a.elements.q.value?!0:!1}else a=!1;a&&(b.preventDefault(),b.stopPropagation())},!0);document.documentElement.addEventListener(\"click\",function(b){var a;a:{for(a=b.target;a&&a!==document.documentElement;a=a.parentElement)if(\"A\"===a.tagName){a=\"1\"===a.getAttribute(\"data-nohref\");break a}a=!1}a&&b.preventDefault()},!0);}).call(this);</script><style>#gbar,#guser{font-size:13px;padding-top:1px !important;}#gbar{height:22px}#guser{padding-bottom:7px !important;text-align:right}.gbh,.gbd{border-top:1px solid #c9d7f1;font-size:1px}.gbh{height:0;position:absolute;top:24px;width:100%}@media all{.gb1{height:22px;margin-right:.5em;vertical-align:top}#gbar{float:left}}a.gb1,a.gb4{text-decoration:underline !important}a.gb1,a.gb4{color:#00c !important}.gbi .gb4{color:#dd8e27 !important}.gbf .gb4{color:#900 !important}\n",
            "</style><style>body,td,a,p,.h{font-family:arial,sans-serif}body{margin:0;overflow-y:scroll}#gog{padding:3px 8px 0}td{line-height:.8em}.gac_m td{line-height:17px}form{margin-bottom:20px}.h{color:#1558d6}em{color:#c5221f;font-style:normal;font-weight:normal}a em{text-decoration:underline}.lst{height:25px;width:496px}.gsfi,.lst{font:18px arial,sans-serif}.gsfs{font:17px arial,sans-serif}.ds{display:inline-box;display:inline-block;margin:3px 0 4px;margin-left:4px}input{font-family:inherit}body{background:#fff;color:#000}a{color:#4b11a8;text-decoration:none}a:hover,a:active{text-decoration:underline}.fl a{color:#1558d6}a:visited{color:#4b11a8}.sblc{padding-top:5px}.sblc a{display:block;margin:2px 0;margin-left:13px;font-size:11px}.lsbb{background:#f8f9fa;border:solid 1px;border-color:#dadce0 #70757a #70757a #dadce0;height:30px}.lsbb{display:block}#WqQANb a{display:inline-block;margin:0 12px}.lsb{background:url(/images/nav_logo229.png) 0 -261px repeat-x;border:none;color:#000;cursor:pointer;height:30px;margin:0;outline:0;font:15px arial,sans-serif;vertical-align:top}.lsb:active{background:#dadce0}.lst:focus{outline:none}</style><script nonce=\"r1n1Kmv+BRKhBV9ZY9D1mg==\">(function(){window.google.erd={jsr:1,bv:1551,de:true};\n",
            "var f=this||self;var g,h=null!=(g=f.mei)?g:1,m,n=null!=(m=f.sdo)?m:!0,p=0,q,r=google.erd,u=r.jsr;google.ml=function(a,b,d,k,c){c=void 0===c?2:c;b&&(q=a&&a.message);if(google.dl)return google.dl(a,c,d),null;if(0>u){window.console&&console.error(a,d);if(-2===u)throw a;b=!1}else b=!a||!a.message||\"Error loading script\"===a.message||p>=h&&!k?!1:!0;if(!b)return null;p++;d=d||{};var e=c;c=encodeURIComponent;b=\"/gen_204?atyp=i&ei=\"+c(google.kEI);google.kEXPI&&(b+=\"&jexpid=\"+c(google.kEXPI));b+=\"&srcpg=\"+c(google.sn)+\"&jsr=\"+c(r.jsr)+\"&bver=\"+c(r.bv)+(\"&jsel=\"+e);e=a.lineNumber;void 0!==e&&(b+=\"&line=\"+\n",
            "e);var l=a.fileName;l&&(b+=\"&script=\"+c(l),e&&l===window.location.href&&(e=document.documentElement.outerHTML.split(\"\\n\")[e],b+=\"&cad=\"+c(e?e.substring(0,300):\"No script found.\")));for(var t in d)b+=\"&\",b+=c(t),b+=\"=\",b+=c(d[t]);b=b+\"&emsg=\"+c(a.name+\": \"+a.message);b=b+\"&jsst=\"+c(a.stack||\"N/A\");12288<=b.length&&(b=b.substr(0,12288));a=b;k||google.log(0,\"\",a);return a};window.onerror=function(a,b,d,k,c){q!==a&&(a=c instanceof Error?c:Error(a),void 0===d||\"lineNumber\"in a||(a.lineNumber=d),void 0===b||\"fileName\"in a||(a.fileName=b),google.ml(a,!1,void 0,!1,\"SyntaxError\"===a.name||\"SyntaxError\"===a.message.substring(0,11)?2:0));q=null;n&&p>=h&&(window.onerror=null)};})();</script></head><body bgcolor=\"#fff\"><script nonce=\"r1n1Kmv+BRKhBV9ZY9D1mg==\">(function(){var src='/images/nav_logo229.png';var iesg=false;document.body.onload = function(){window.n && window.n();if (document.images){new Image().src=src;}\n",
            "if (!iesg){document.f&&document.f.q.focus();document.gbqf&&document.gbqf.q.focus();}\n",
            "}\n",
            "})();</script><div id=\"mngb\"><div id=gbar><nobr><b class=gb1>&#25628;&#23563;</b> <a class=gb1 href=\"https://www.google.com.tw/imghp?hl=zh-TW&tab=wi\">&#22294;&#29255;</a> <a class=gb1 href=\"https://maps.google.com.tw/maps?hl=zh-TW&tab=wl\">&#22320;&#22294;</a> <a class=gb1 href=\"https://play.google.com/?hl=zh-TW&tab=w8\">Play</a> <a class=gb1 href=\"https://www.youtube.com/?gl=TW&tab=w1\">YouTube</a> <a class=gb1 href=\"https://news.google.com/?tab=wn\">&#26032;&#32862;</a> <a class=gb1 href=\"https://mail.google.com/mail/?tab=wm\">Gmail</a> <a class=gb1 href=\"https://drive.google.com/?tab=wo\">&#38642;&#31471;&#30828;&#30879;</a> <a class=gb1 style=\"text-decoration:none\" href=\"https://www.google.com.tw/intl/zh-TW/about/products?tab=wh\"><u>&#26356;&#22810;</u> &raquo;</a></nobr></div><div id=guser width=100%><nobr><span id=gbn class=gbi></span><span id=gbf class=gbf></span><span id=gbe></span><a href=\"http://www.google.com.tw/history/optout?hl=zh-TW\" class=gb4>&#32178;&#38913;&#35352;&#37636;</a> | <a  href=\"/preferences?hl=zh-TW\" class=gb4>&#35373;&#23450;</a> | <a target=_top id=gb_70 href=\"https://accounts.google.com/ServiceLogin?hl=zh-TW&passive=true&continue=https://www.google.com/&ec=GAZAAQ\" class=gb4>&#30331;&#20837;</a></nobr></div><div class=gbh style=left:0></div><div class=gbh style=right:0></div></div><center><br clear=\"all\" id=\"lgpd\"><div id=\"lga\"><img alt=\"Google\" height=\"92\" src=\"/images/branding/googlelogo/1x/googlelogo_white_background_color_272x92dp.png\" style=\"padding:28px 0 14px\" width=\"272\" id=\"hplogo\"><br><br></div><form action=\"/search\" name=\"f\"><table cellpadding=\"0\" cellspacing=\"0\"><tr valign=\"top\"><td width=\"25%\">&nbsp;</td><td align=\"center\" nowrap=\"\"><input name=\"ie\" value=\"ISO-8859-1\" type=\"hidden\"><input value=\"zh-TW\" name=\"hl\" type=\"hidden\"><input name=\"source\" type=\"hidden\" value=\"hp\"><input name=\"biw\" type=\"hidden\"><input name=\"bih\" type=\"hidden\"><div class=\"ds\" style=\"height:32px;margin:4px 0\"><input class=\"lst\" style=\"margin:0;padding:5px 8px 0 6px;vertical-align:top;color:#000\" autocomplete=\"off\" value=\"\" title=\"Google &#25628;&#23563;\" maxlength=\"2048\" name=\"q\" size=\"57\"></div><br style=\"line-height:0\"><span class=\"ds\"><span class=\"lsbb\"><input class=\"lsb\" value=\"Google &#25628;&#23563;\" name=\"btnG\" type=\"submit\"></span></span><span class=\"ds\"><span class=\"lsbb\"><input class=\"lsb\" id=\"tsuid1\" value=\"&#22909;&#25163;&#27683;\" name=\"btnI\" type=\"submit\"><script nonce=\"r1n1Kmv+BRKhBV9ZY9D1mg==\">(function(){var id='tsuid1';document.getElementById(id).onclick = function(){if (this.form.q.value){this.checked = 1;if (this.form.iflsig)this.form.iflsig.disabled = false;}\n",
            "else top.location='/doodles/';};})();</script><input value=\"AHkkrS4AAAAAYjev8322THjJi7TH3wWWcXoCSlnBSFsl\" name=\"iflsig\" type=\"hidden\"></span></span></td><td class=\"fl sblc\" align=\"left\" nowrap=\"\" width=\"25%\"><a href=\"/advanced_search?hl=zh-TW&amp;authuser=0\">&#36914;&#38542;&#25628;&#23563;</a></td></tr></table><input id=\"gbv\" name=\"gbv\" type=\"hidden\" value=\"1\"><script nonce=\"r1n1Kmv+BRKhBV9ZY9D1mg==\">(function(){\n",
            "var a,b=\"1\";if(document&&document.getElementById)if(\"undefined\"!=typeof XMLHttpRequest)b=\"2\";else if(\"undefined\"!=typeof ActiveXObject){var c,d,e=[\"MSXML2.XMLHTTP.6.0\",\"MSXML2.XMLHTTP.3.0\",\"MSXML2.XMLHTTP\",\"Microsoft.XMLHTTP\"];for(c=0;d=e[c++];)try{new ActiveXObject(d),b=\"2\"}catch(h){}}a=b;if(\"2\"==a&&-1==location.search.indexOf(\"&gbv=2\")){var f=google.gbvu,g=document.getElementById(\"gbv\");g&&(g.value=a);f&&window.setTimeout(function(){location.href=f},0)};}).call(this);</script></form><div id=\"gac_scont\"></div><div style=\"font-size:83%;min-height:3.5em\"><br></div><span id=\"footer\"><div style=\"font-size:10pt\"><div style=\"margin:19px auto;text-align:center\" id=\"WqQANb\"><a href=\"http://www.google.com.tw/intl/zh-TW/services/\">&#21830;&#26989;&#35299;&#27770;&#26041;&#26696;</a><a href=\"/intl/zh-TW/about.html\">&#38364;&#26044; Google</a><a href=\"https://www.google.com/setprefdomain?prefdom=TW&amp;prev=https://www.google.com.tw/&amp;sig=K_dhULgrlz25Sw3SNo62-nthWzZC4%3D\">Google.com.tw</a></div></div><p style=\"font-size:8pt;color:#70757a\">&copy; 2022 - <a href=\"/intl/zh-TW/policies/privacy/\">&#38577;&#31169;&#27402;</a> - <a href=\"/intl/zh-TW/policies/terms/\">&#26381;&#21209;&#26781;&#27454;</a></p></span></center><script nonce=\"r1n1Kmv+BRKhBV9ZY9D1mg==\">(function(){window.google.cdo={height:757,width:1440};(function(){\n",
            "var a=window.innerWidth,b=window.innerHeight;if(!a||!b){var c=window.document,d=\"CSS1Compat\"==c.compatMode?c.documentElement:c.body;a=d.clientWidth;b=d.clientHeight}a&&b&&(a!=google.cdo.width||b!=google.cdo.height)&&google.log(\"\",\"\",\"/client_204?&atyp=i&biw=\"+a+\"&bih=\"+b+\"&ei=\"+google.kEI);}).call(this);})();</script> <script nonce=\"r1n1Kmv+BRKhBV9ZY9D1mg==\">(function(){google.xjs={ck:'',cs:'',excm:[]};})();</script>  <script nonce=\"r1n1Kmv+BRKhBV9ZY9D1mg==\">(function(){var u='/xjs/_/js/k\\x3dxjs.hp.en.iYaHtcfhn3o.O/am\\x3dAOAJAIAEIAE/d\\x3d1/ed\\x3d1/esmo\\x3d1/rs\\x3dACT90oE-1I-sU0CEGeW1MS4kMWA4YSWhhA/m\\x3dsb_he,d';\n",
            "var d=this||self,e=function(a){return a};var g;var l=function(a,b){this.g=b===h?a:\"\"};l.prototype.toString=function(){return this.g+\"\"};var h={};\n",
            "function n(){var a=u;google.lx=function(){p(a);google.lx=function(){}};google.bx||google.lx()}\n",
            "function p(a){google.timers&&google.timers.load&&google.tick&&google.tick(\"load\",\"xjsls\");var b=document;var c=\"SCRIPT\";\"application/xhtml+xml\"===b.contentType&&(c=c.toLowerCase());c=b.createElement(c);if(void 0===g){b=null;var k=d.trustedTypes;if(k&&k.createPolicy){try{b=k.createPolicy(\"goog#html\",{createHTML:e,createScript:e,createScriptURL:e})}catch(q){d.console&&d.console.error(q.message)}g=b}else g=b}a=(b=g)?b.createScriptURL(a):a;a=new l(a,h);c.src=a instanceof l&&a.constructor===l?a.g:\"type_error:TrustedResourceUrl\";var f,m;(f=(a=null==(m=(f=(c.ownerDocument&&c.ownerDocument.defaultView||window).document).querySelector)?void 0:m.call(f,\"script[nonce]\"))?a.nonce||a.getAttribute(\"nonce\")||\"\":\"\")&&c.setAttribute(\"nonce\",f);document.body.appendChild(c);google.psa=!0};google.xjsu=u;setTimeout(function(){n()},0);})();function _DumpException(e){throw e;}\n",
            "function _F_installCss(c){}\n",
            "(function(){google.jl={attn:false,blt:'none',chnk:0,dw:false,dwu:true,emtn:0,end:0,ine:false,injs:'none',injt:0,lls:'default',pdt:0,rep:0,snet:true,strt:0,ubm:false,uwp:true};})();(function(){var pmc='{\\x22d\\x22:{},\\x22sb_he\\x22:{\\x22agen\\x22:false,\\x22cgen\\x22:false,\\x22client\\x22:\\x22heirloom-hp\\x22,\\x22dh\\x22:true,\\x22dhqt\\x22:true,\\x22ds\\x22:\\x22\\x22,\\x22ffql\\x22:\\x22zh-TW\\x22,\\x22fl\\x22:true,\\x22host\\x22:\\x22google.com\\x22,\\x22isbh\\x22:28,\\x22jsonp\\x22:true,\\x22msgs\\x22:{\\x22cibl\\x22:\\x22&#28165;&#38500;&#25628;&#23563;\\x22,\\x22dym\\x22:\\x22&#20320;&#26159;&#19981;&#26159;&#35201;&#26597;&#65306;\\x22,\\x22lcky\\x22:\\x22&#22909;&#25163;&#27683;\\x22,\\x22lml\\x22:\\x22&#30637;&#35299;&#35443;&#24773;\\x22,\\x22oskt\\x22:\\x22&#36664;&#20837;&#24037;&#20855;\\x22,\\x22psrc\\x22:\\x22&#24050;&#24478;&#24744;&#30340;&#12300;\\\\u003Ca href\\x3d\\\\\\x22/history\\\\\\x22\\\\u003E&#32178;&#38913;&#35352;&#37636;\\\\u003C/a\\\\u003E&#12301;&#20013;&#31227;&#38500;&#36889;&#31558;&#25628;&#23563;&#35352;&#37636;\\x22,\\x22psrl\\x22:\\x22&#31227;&#38500;\\x22,\\x22sbit\\x22:\\x22&#20197;&#22294;&#25628;&#23563;\\x22,\\x22srch\\x22:\\x22Google &#25628;&#23563;\\x22},\\x22ovr\\x22:{},\\x22pq\\x22:\\x22\\x22,\\x22refpd\\x22:true,\\x22rfs\\x22:[],\\x22sbas\\x22:\\x220 3px 8px 0 rgba(0,0,0,0.2),0 0 0 1px rgba(0,0,0,0.08)\\x22,\\x22sbpl\\x22:16,\\x22sbpr\\x22:16,\\x22scd\\x22:10,\\x22stok\\x22:\\x22mIk7DKHPWE-2h66kW2OfWBTl8Iw\\x22,\\x22uhde\\x22:false}}';google.pmc=JSON.parse(pmc);})();</script>        </body></html>\n",
            "<class 'str'>\n"
          ]
        }
      ]
    },
    {
      "cell_type": "markdown",
      "source": [
        "We can also display without the print() function as the code is executed in interactive mode:"
      ],
      "metadata": {
        "id": "n60_o0ZtSb0f"
      }
    },
    {
      "cell_type": "code",
      "source": [
        "response.text"
      ],
      "metadata": {
        "colab": {
          "base_uri": "https://localhost:8080/",
          "height": 174
        },
        "id": "iPUWe6rSToLm",
        "outputId": "8e045643-ba6e-42b4-908d-7aea96d0ef3e"
      },
      "execution_count": 239,
      "outputs": [
        {
          "output_type": "execute_result",
          "data": {
            "text/plain": [
              "'<!doctype html><html itemscope=\"\" itemtype=\"http://schema.org/WebPage\" lang=\"zh-TW\"><head><meta content=\"text/html; charset=UTF-8\" http-equiv=\"Content-Type\"><meta content=\"/images/branding/googleg/1x/googleg_standard_color_128dp.png\" itemprop=\"image\"><title>Google</title><script nonce=\"5CpxtlsFtYG/bJEYxH1KVQ==\">(function(){window.google={kEI:\\'LqA3YoaxMLaMr7wPruGJ6Ag\\',kEXPI:\\'0,1302536,56873,1710,4348,207,4804,2316,383,246,5,1354,4013,1238,1122515,1197715,686,22,15,380053,16114,28684,17572,4859,1361,9291,3025,2818,14765,4998,13228,3847,4192,6430,22112,631,2853,3819,1279,2742,149,1103,840,1983,213,4101,109,4011,2025,1775,520,14670,3227,2845,7,4774,12676,11625,4695,4465,3783,9359,3,576,6459,149,12314,1661,4,1528,2304,6463,5463,20186,2658,7357,30,11010,2618,13795,7428,5815,2542,4094,17,4035,3,3541,1,16807,25347,2,8982,1,5039,1931,5589,744,5852,10463,1160,5679,1020,2380,2719,18233,46,2,6,7736,4569,6252,6729,16695,830,416,5841,14967,1555,2778,20,4997,1072,1395,445,2,2,1,6395,564,5540,585,4237,6428,781,98,150,1407,10,1,436,8155,113,5011,5,508,945,316,482,1,12,175,2,2854,858,2669,23,4299,1922,1116,750,1008,554,325,486,3128,1840,2204,866,216,135,2,6,874,318,1450,2,1,2746,3083,15,70,32,1,107,2,20,190,934,488,806,408,2,1406,773,1105,112,1911,371,1434,1750,637,331,126,622,659,2,69,5,83,593,900,47,231,1073,2064,2,569,686,625,321,663,163,316,883,186,5455239,3892,930,8797081,882,444,3,1877,1,2562,1,748,141,795,563,1,4265,1,1,2,1331,4142,2609,155,17,13,72,139,4,2,20,2,169,13,19,46,5,39,96,548,29,2,2,1,2,1,2,2,7,4,1,2,2,2,2,2,2,353,513,186,1,1,158,3,2,2,2,2,2,4,2,3,3,269,1601,141,1002,144,4,5,44,6,30,1,31,23951714,2770167,1271522,3,450,3455,9,1435,159,1358,4726,3,923,32,3,1704,2,416,2917,766,1676,1227,7\\',kBL:\\'_N6h\\'};google.sn=\\'webhp\\';google.kHL=\\'zh-TW\\';})();(function(){\\nvar f=this||self;var h,k=[];function l(a){for(var b;a&&(!a.getAttribute||!(b=a.getAttribute(\"eid\")));)a=a.parentNode;return b||h}function m(a){for(var b=null;a&&(!a.getAttribute||!(b=a.getAttribute(\"leid\")));)a=a.parentNode;return b}\\nfunction n(a,b,c,d,g){var e=\"\";c||-1!==b.search(\"&ei=\")||(e=\"&ei=\"+l(d),-1===b.search(\"&lei=\")&&(d=m(d))&&(e+=\"&lei=\"+d));d=\"\";!c&&f._cshid&&-1===b.search(\"&cshid=\")&&\"slh\"!==a&&(d=\"&cshid=\"+f._cshid);c=c||\"/\"+(g||\"gen_204\")+\"?atyp=i&ct=\"+a+\"&cad=\"+b+e+\"&zx=\"+Date.now()+d;/^http:/i.test(c)&&\"https:\"===window.location.protocol&&(google.ml&&google.ml(Error(\"a\"),!1,{src:c,glmm:1}),c=\"\");return c};h=google.kEI;google.getEI=l;google.getLEI=m;google.ml=function(){return null};google.log=function(a,b,c,d,g){if(c=n(a,b,c,d,g)){a=new Image;var e=k.length;k[e]=a;a.onerror=a.onload=a.onabort=function(){delete k[e]};a.src=c}};google.logUrl=n;}).call(this);(function(){\\ngoogle.y={};google.sy=[];google.x=function(a,b){if(a)var c=a.id;else{do c=Math.random();while(google.y[c])}google.y[c]=[a,b];return!1};google.sx=function(a){google.sy.push(a)};google.lm=[];google.plm=function(a){google.lm.push.apply(google.lm,a)};google.lq=[];google.load=function(a,b,c){google.lq.push([[a],b,c])};google.loadAll=function(a,b){google.lq.push([a,b])};google.bx=!1;google.lx=function(){};}).call(this);google.f={};(function(){\\ndocument.documentElement.addEventListener(\"submit\",function(b){var a;if(a=b.target){var c=a.getAttribute(\"data-submitfalse\");a=\"1\"===c||\"q\"===c&&!a.elements.q.value?!0:!1}else a=!1;a&&(b.preventDefault(),b.stopPropagation())},!0);document.documentElement.addEventListener(\"click\",function(b){var a;a:{for(a=b.target;a&&a!==document.documentElement;a=a.parentElement)if(\"A\"===a.tagName){a=\"1\"===a.getAttribute(\"data-nohref\");break a}a=!1}a&&b.preventDefault()},!0);}).call(this);</script><style>#gbar,#guser{font-size:13px;padding-top:1px !important;}#gbar{height:22px}#guser{padding-bottom:7px !important;text-align:right}.gbh,.gbd{border-top:1px solid #c9d7f1;font-size:1px}.gbh{height:0;position:absolute;top:24px;width:100%}@media all{.gb1{height:22px;margin-right:.5em;vertical-align:top}#gbar{float:left}}a.gb1,a.gb4{text-decoration:underline !important}a.gb1,a.gb4{color:#00c !important}.gbi .gb4{color:#dd8e27 !important}.gbf .gb4{color:#900 !important}\\n</style><style>body,td,a,p,.h{font-family:arial,sans-serif}body{margin:0;overflow-y:scroll}#gog{padding:3px 8px 0}td{line-height:.8em}.gac_m td{line-height:17px}form{margin-bottom:20px}.h{color:#1558d6}em{color:#c5221f;font-style:normal;font-weight:normal}a em{text-decoration:underline}.lst{height:25px;width:496px}.gsfi,.lst{font:18px arial,sans-serif}.gsfs{font:17px arial,sans-serif}.ds{display:inline-box;display:inline-block;margin:3px 0 4px;margin-left:4px}input{font-family:inherit}body{background:#fff;color:#000}a{color:#4b11a8;text-decoration:none}a:hover,a:active{text-decoration:underline}.fl a{color:#1558d6}a:visited{color:#4b11a8}.sblc{padding-top:5px}.sblc a{display:block;margin:2px 0;margin-left:13px;font-size:11px}.lsbb{background:#f8f9fa;border:solid 1px;border-color:#dadce0 #70757a #70757a #dadce0;height:30px}.lsbb{display:block}#WqQANb a{display:inline-block;margin:0 12px}.lsb{background:url(/images/nav_logo229.png) 0 -261px repeat-x;border:none;color:#000;cursor:pointer;height:30px;margin:0;outline:0;font:15px arial,sans-serif;vertical-align:top}.lsb:active{background:#dadce0}.lst:focus{outline:none}</style><script nonce=\"5CpxtlsFtYG/bJEYxH1KVQ==\">(function(){window.google.erd={jsr:1,bv:1551,de:true};\\nvar f=this||self;var g,h=null!=(g=f.mei)?g:1,m,n=null!=(m=f.sdo)?m:!0,p=0,q,r=google.erd,u=r.jsr;google.ml=function(a,b,d,k,c){c=void 0===c?2:c;b&&(q=a&&a.message);if(google.dl)return google.dl(a,c,d),null;if(0>u){window.console&&console.error(a,d);if(-2===u)throw a;b=!1}else b=!a||!a.message||\"Error loading script\"===a.message||p>=h&&!k?!1:!0;if(!b)return null;p++;d=d||{};var e=c;c=encodeURIComponent;b=\"/gen_204?atyp=i&ei=\"+c(google.kEI);google.kEXPI&&(b+=\"&jexpid=\"+c(google.kEXPI));b+=\"&srcpg=\"+c(google.sn)+\"&jsr=\"+c(r.jsr)+\"&bver=\"+c(r.bv)+(\"&jsel=\"+e);e=a.lineNumber;void 0!==e&&(b+=\"&line=\"+\\ne);var l=a.fileName;l&&(b+=\"&script=\"+c(l),e&&l===window.location.href&&(e=document.documentElement.outerHTML.split(\"\\\\n\")[e],b+=\"&cad=\"+c(e?e.substring(0,300):\"No script found.\")));for(var t in d)b+=\"&\",b+=c(t),b+=\"=\",b+=c(d[t]);b=b+\"&emsg=\"+c(a.name+\": \"+a.message);b=b+\"&jsst=\"+c(a.stack||\"N/A\");12288<=b.length&&(b=b.substr(0,12288));a=b;k||google.log(0,\"\",a);return a};window.onerror=function(a,b,d,k,c){q!==a&&(a=c instanceof Error?c:Error(a),void 0===d||\"lineNumber\"in a||(a.lineNumber=d),void 0===b||\"fileName\"in a||(a.fileName=b),google.ml(a,!1,void 0,!1,\"SyntaxError\"===a.name||\"SyntaxError\"===a.message.substring(0,11)?2:0));q=null;n&&p>=h&&(window.onerror=null)};})();</script></head><body bgcolor=\"#fff\"><script nonce=\"5CpxtlsFtYG/bJEYxH1KVQ==\">(function(){var src=\\'/images/nav_logo229.png\\';var iesg=false;document.body.onload = function(){window.n && window.n();if (document.images){new Image().src=src;}\\nif (!iesg){document.f&&document.f.q.focus();document.gbqf&&document.gbqf.q.focus();}\\n}\\n})();</script><div id=\"mngb\"><div id=gbar><nobr><b class=gb1>&#25628;&#23563;</b> <a class=gb1 href=\"https://www.google.com.tw/imghp?hl=zh-TW&tab=wi\">&#22294;&#29255;</a> <a class=gb1 href=\"https://maps.google.com.tw/maps?hl=zh-TW&tab=wl\">&#22320;&#22294;</a> <a class=gb1 href=\"https://play.google.com/?hl=zh-TW&tab=w8\">Play</a> <a class=gb1 href=\"https://www.youtube.com/?gl=TW&tab=w1\">YouTube</a> <a class=gb1 href=\"https://news.google.com/?tab=wn\">&#26032;&#32862;</a> <a class=gb1 href=\"https://mail.google.com/mail/?tab=wm\">Gmail</a> <a class=gb1 href=\"https://drive.google.com/?tab=wo\">&#38642;&#31471;&#30828;&#30879;</a> <a class=gb1 style=\"text-decoration:none\" href=\"https://www.google.com.tw/intl/zh-TW/about/products?tab=wh\"><u>&#26356;&#22810;</u> &raquo;</a></nobr></div><div id=guser width=100%><nobr><span id=gbn class=gbi></span><span id=gbf class=gbf></span><span id=gbe></span><a href=\"http://www.google.com.tw/history/optout?hl=zh-TW\" class=gb4>&#32178;&#38913;&#35352;&#37636;</a> | <a  href=\"/preferences?hl=zh-TW\" class=gb4>&#35373;&#23450;</a> | <a target=_top id=gb_70 href=\"https://accounts.google.com/ServiceLogin?hl=zh-TW&passive=true&continue=https://www.google.com/&ec=GAZAAQ\" class=gb4>&#30331;&#20837;</a></nobr></div><div class=gbh style=left:0></div><div class=gbh style=right:0></div></div><center><br clear=\"all\" id=\"lgpd\"><div id=\"lga\"><img alt=\"Google\" height=\"92\" src=\"/images/branding/googlelogo/1x/googlelogo_white_background_color_272x92dp.png\" style=\"padding:28px 0 14px\" width=\"272\" id=\"hplogo\"><br><br></div><form action=\"/search\" name=\"f\"><table cellpadding=\"0\" cellspacing=\"0\"><tr valign=\"top\"><td width=\"25%\">&nbsp;</td><td align=\"center\" nowrap=\"\"><input name=\"ie\" value=\"ISO-8859-1\" type=\"hidden\"><input value=\"zh-TW\" name=\"hl\" type=\"hidden\"><input name=\"source\" type=\"hidden\" value=\"hp\"><input name=\"biw\" type=\"hidden\"><input name=\"bih\" type=\"hidden\"><div class=\"ds\" style=\"height:32px;margin:4px 0\"><input class=\"lst\" style=\"margin:0;padding:5px 8px 0 6px;vertical-align:top;color:#000\" autocomplete=\"off\" value=\"\" title=\"Google &#25628;&#23563;\" maxlength=\"2048\" name=\"q\" size=\"57\"></div><br style=\"line-height:0\"><span class=\"ds\"><span class=\"lsbb\"><input class=\"lsb\" value=\"Google &#25628;&#23563;\" name=\"btnG\" type=\"submit\"></span></span><span class=\"ds\"><span class=\"lsbb\"><input class=\"lsb\" id=\"tsuid1\" value=\"&#22909;&#25163;&#27683;\" name=\"btnI\" type=\"submit\"><script nonce=\"5CpxtlsFtYG/bJEYxH1KVQ==\">(function(){var id=\\'tsuid1\\';document.getElementById(id).onclick = function(){if (this.form.q.value){this.checked = 1;if (this.form.iflsig)this.form.iflsig.disabled = false;}\\nelse top.location=\\'/doodles/\\';};})();</script><input value=\"AHkkrS4AAAAAYjeuPui7db8XUCIFzgBEu0vbCxdVRJuM\" name=\"iflsig\" type=\"hidden\"></span></span></td><td class=\"fl sblc\" align=\"left\" nowrap=\"\" width=\"25%\"><a href=\"/advanced_search?hl=zh-TW&amp;authuser=0\">&#36914;&#38542;&#25628;&#23563;</a></td></tr></table><input id=\"gbv\" name=\"gbv\" type=\"hidden\" value=\"1\"><script nonce=\"5CpxtlsFtYG/bJEYxH1KVQ==\">(function(){\\nvar a,b=\"1\";if(document&&document.getElementById)if(\"undefined\"!=typeof XMLHttpRequest)b=\"2\";else if(\"undefined\"!=typeof ActiveXObject){var c,d,e=[\"MSXML2.XMLHTTP.6.0\",\"MSXML2.XMLHTTP.3.0\",\"MSXML2.XMLHTTP\",\"Microsoft.XMLHTTP\"];for(c=0;d=e[c++];)try{new ActiveXObject(d),b=\"2\"}catch(h){}}a=b;if(\"2\"==a&&-1==location.search.indexOf(\"&gbv=2\")){var f=google.gbvu,g=document.getElementById(\"gbv\");g&&(g.value=a);f&&window.setTimeout(function(){location.href=f},0)};}).call(this);</script></form><div id=\"gac_scont\"></div><div style=\"font-size:83%;min-height:3.5em\"><br></div><span id=\"footer\"><div style=\"font-size:10pt\"><div style=\"margin:19px auto;text-align:center\" id=\"WqQANb\"><a href=\"http://www.google.com.tw/intl/zh-TW/services/\">&#21830;&#26989;&#35299;&#27770;&#26041;&#26696;</a><a href=\"/intl/zh-TW/about.html\">&#38364;&#26044; Google</a><a href=\"https://www.google.com/setprefdomain?prefdom=TW&amp;prev=https://www.google.com.tw/&amp;sig=K_qvnAowYjt5fOvTN-jReGpK1hIZ0%3D\">Google.com.tw</a></div></div><p style=\"font-size:8pt;color:#70757a\">&copy; 2022 - <a href=\"/intl/zh-TW/policies/privacy/\">&#38577;&#31169;&#27402;</a> - <a href=\"/intl/zh-TW/policies/terms/\">&#26381;&#21209;&#26781;&#27454;</a></p></span></center><script nonce=\"5CpxtlsFtYG/bJEYxH1KVQ==\">(function(){window.google.cdo={height:757,width:1440};(function(){\\nvar a=window.innerWidth,b=window.innerHeight;if(!a||!b){var c=window.document,d=\"CSS1Compat\"==c.compatMode?c.documentElement:c.body;a=d.clientWidth;b=d.clientHeight}a&&b&&(a!=google.cdo.width||b!=google.cdo.height)&&google.log(\"\",\"\",\"/client_204?&atyp=i&biw=\"+a+\"&bih=\"+b+\"&ei=\"+google.kEI);}).call(this);})();</script> <script nonce=\"5CpxtlsFtYG/bJEYxH1KVQ==\">(function(){google.xjs={ck:\\'\\',cs:\\'\\',excm:[]};})();</script>  <script nonce=\"5CpxtlsFtYG/bJEYxH1KVQ==\">(function(){var u=\\'/xjs/_/js/k\\\\x3dxjs.hp.en.iYaHtcfhn3o.O/am\\\\x3dAOAJAIAEIAE/d\\\\x3d1/ed\\\\x3d1/esmo\\\\x3d1/rs\\\\x3dACT90oE-1I-sU0CEGeW1MS4kMWA4YSWhhA/m\\\\x3dsb_he,d\\';\\nvar d=this||self,e=function(a){return a};var g;var l=function(a,b){this.g=b===h?a:\"\"};l.prototype.toString=function(){return this.g+\"\"};var h={};\\nfunction n(){var a=u;google.lx=function(){p(a);google.lx=function(){}};google.bx||google.lx()}\\nfunction p(a){google.timers&&google.timers.load&&google.tick&&google.tick(\"load\",\"xjsls\");var b=document;var c=\"SCRIPT\";\"application/xhtml+xml\"===b.contentType&&(c=c.toLowerCase());c=b.createElement(c);if(void 0===g){b=null;var k=d.trustedTypes;if(k&&k.createPolicy){try{b=k.createPolicy(\"goog#html\",{createHTML:e,createScript:e,createScriptURL:e})}catch(q){d.console&&d.console.error(q.message)}g=b}else g=b}a=(b=g)?b.createScriptURL(a):a;a=new l(a,h);c.src=a instanceof l&&a.constructor===l?a.g:\"type_error:TrustedResourceUrl\";var f,m;(f=(a=null==(m=(f=(c.ownerDocument&&c.ownerDocument.defaultView||window).document).querySelector)?void 0:m.call(f,\"script[nonce]\"))?a.nonce||a.getAttribute(\"nonce\")||\"\":\"\")&&c.setAttribute(\"nonce\",f);document.body.appendChild(c);google.psa=!0};google.xjsu=u;setTimeout(function(){n()},0);})();function _DumpException(e){throw e;}\\nfunction _F_installCss(c){}\\n(function(){google.jl={attn:false,blt:\\'none\\',chnk:0,dw:false,dwu:true,emtn:0,end:0,ine:false,injs:\\'none\\',injt:0,lls:\\'default\\',pdt:0,rep:0,snet:true,strt:0,ubm:false,uwp:true};})();(function(){var pmc=\\'{\\\\x22d\\\\x22:{},\\\\x22sb_he\\\\x22:{\\\\x22agen\\\\x22:true,\\\\x22cgen\\\\x22:true,\\\\x22client\\\\x22:\\\\x22heirloom-hp\\\\x22,\\\\x22dh\\\\x22:true,\\\\x22dhqt\\\\x22:true,\\\\x22ds\\\\x22:\\\\x22\\\\x22,\\\\x22ffql\\\\x22:\\\\x22zh-TW\\\\x22,\\\\x22fl\\\\x22:true,\\\\x22host\\\\x22:\\\\x22google.com\\\\x22,\\\\x22isbh\\\\x22:28,\\\\x22jsonp\\\\x22:true,\\\\x22msgs\\\\x22:{\\\\x22cibl\\\\x22:\\\\x22&#28165;&#38500;&#25628;&#23563;\\\\x22,\\\\x22dym\\\\x22:\\\\x22&#20320;&#26159;&#19981;&#26159;&#35201;&#26597;&#65306;\\\\x22,\\\\x22lcky\\\\x22:\\\\x22&#22909;&#25163;&#27683;\\\\x22,\\\\x22lml\\\\x22:\\\\x22&#30637;&#35299;&#35443;&#24773;\\\\x22,\\\\x22oskt\\\\x22:\\\\x22&#36664;&#20837;&#24037;&#20855;\\\\x22,\\\\x22psrc\\\\x22:\\\\x22&#24050;&#24478;&#24744;&#30340;&#12300;\\\\\\\\u003Ca href\\\\x3d\\\\\\\\\\\\x22/history\\\\\\\\\\\\x22\\\\\\\\u003E&#32178;&#38913;&#35352;&#37636;\\\\\\\\u003C/a\\\\\\\\u003E&#12301;&#20013;&#31227;&#38500;&#36889;&#31558;&#25628;&#23563;&#35352;&#37636;\\\\x22,\\\\x22psrl\\\\x22:\\\\x22&#31227;&#38500;\\\\x22,\\\\x22sbit\\\\x22:\\\\x22&#20197;&#22294;&#25628;&#23563;\\\\x22,\\\\x22srch\\\\x22:\\\\x22Google &#25628;&#23563;\\\\x22},\\\\x22ovr\\\\x22:{},\\\\x22pq\\\\x22:\\\\x22\\\\x22,\\\\x22refpd\\\\x22:true,\\\\x22rfs\\\\x22:[],\\\\x22sbas\\\\x22:\\\\x220 3px 8px 0 rgba(0,0,0,0.2),0 0 0 1px rgba(0,0,0,0.08)\\\\x22,\\\\x22sbpl\\\\x22:16,\\\\x22sbpr\\\\x22:16,\\\\x22scd\\\\x22:10,\\\\x22stok\\\\x22:\\\\x22eHQB0l0ehVpnMm4R-satmcyXOi0\\\\x22,\\\\x22uhde\\\\x22:false}}\\';google.pmc=JSON.parse(pmc);})();</script>        </body></html>'"
            ],
            "application/vnd.google.colaboratory.intrinsic+json": {
              "type": "string"
            }
          },
          "metadata": {},
          "execution_count": 239
        }
      ]
    },
    {
      "cell_type": "code",
      "source": [
        "#Let's make a request to an api and get the response in json/english format\n",
        "import requests\n",
        "\n",
        "# we can use the get method to quiery information for an url using paramters for the language in engilsh\n",
        "response = requests.get('https://uselessfacts.jsph.pl/random.json?language=en')\n",
        "\n",
        "#print the response in text format \n",
        "print(response.text)\n"
      ],
      "metadata": {
        "colab": {
          "base_uri": "https://localhost:8080/"
        },
        "id": "CM9OO_gWXAJY",
        "outputId": "d09fdec5-a6ab-4d10-8105-0a2eab3d8452"
      },
      "execution_count": null,
      "outputs": [
        {
          "output_type": "stream",
          "name": "stdout",
          "text": [
            "{\"id\":\"3afdd90d-ea9a-4f74-83db-8093f4d4f316\",\"text\":\"The citrus soda 7-UP was created in 1929; `7` was selected after the original 7-ounce containers and `UP` for the direction of the bubbles.\",\"source\":\"djtech.net\",\"source_url\":\"http:\\/\\/www.djtech.net\\/humor\\/useless_facts.htm\",\"language\":\"en\",\"permalink\":\"https:\\/\\/uselessfacts.jsph.pl\\/3afdd90d-ea9a-4f74-83db-8093f4d4f316\"}\n"
          ]
        }
      ]
    },
    {
      "cell_type": "markdown",
      "source": [
        "Below we go through a variation of the above code. In this example we define our query parameters in a separate dictionary. These are then passed as an argument to the params parameter of requests.get().\n",
        "\n",
        "We also use response.json() instead of response.text to get the response data as a dictionary.\n",
        "\n",
        "Python dictionaries have a .get() method that can be used to grab a particular element, such as 'text' (this value depends on the API we are consuming)"
      ],
      "metadata": {
        "id": "QmY3UNqKUV5o"
      }
    },
    {
      "cell_type": "code",
      "source": [
        "query = {\n",
        "    'language':'en'\n",
        "}\n",
        "\n",
        "response = requests.get('https://uselessfacts.jsph.pl/random.json', params=query)\n",
        "\n",
        "print(response.text)\n",
        "print(type(response.text))\n",
        "print('')\n",
        "\n",
        "#json data is immediatley avaialbe as a dictionary in python\n",
        "print(response.json())\n",
        "print(type(response.json()))\n",
        "print('')\n",
        "\n",
        "#we can request specefic portion of the json data by useing the .get method\n",
        "print(response.json().get('text'))\n",
        "print('')\n",
        "\n",
        "#we can also ivoke the .json and .get methods in the same request code\n",
        "print(requests.get('https://uselessfacts.jsph.pl/random.json', params=query).json().get('text'))\n",
        "\n"
      ],
      "metadata": {
        "colab": {
          "base_uri": "https://localhost:8080/"
        },
        "id": "zpgU4upXZtYG",
        "outputId": "fce29427-a93d-4111-b537-09086fa0b500"
      },
      "execution_count": null,
      "outputs": [
        {
          "output_type": "stream",
          "name": "stdout",
          "text": [
            "{\"id\":\"ac4be6f5-0411-4c20-bde0-13b336ccdf33\",\"text\":\"Over 60% of all those who marry get divorced.\",\"source\":\"djtech.net\",\"source_url\":\"http:\\/\\/www.djtech.net\\/humor\\/useless_facts.htm\",\"language\":\"en\",\"permalink\":\"https:\\/\\/uselessfacts.jsph.pl\\/ac4be6f5-0411-4c20-bde0-13b336ccdf33\"}\n",
            "<class 'str'>\n",
            "\n",
            "{'id': 'ac4be6f5-0411-4c20-bde0-13b336ccdf33', 'text': 'Over 60% of all those who marry get divorced.', 'source': 'djtech.net', 'source_url': 'http://www.djtech.net/humor/useless_facts.htm', 'language': 'en', 'permalink': 'https://uselessfacts.jsph.pl/ac4be6f5-0411-4c20-bde0-13b336ccdf33'}\n",
            "<class 'dict'>\n",
            "\n",
            "Over 60% of all those who marry get divorced.\n",
            "\n",
            "The average person will accidentally eat just under a pound of insects every year.\n"
          ]
        }
      ]
    },
    {
      "cell_type": "markdown",
      "source": [
        "# Data Structures\n",
        "The important ones are **lists**, dictionaries, and sets\n",
        "\n",
        "\n",
        "##List\n"
      ],
      "metadata": {
        "id": "kNpTVIBZo0Hc"
      }
    },
    {
      "cell_type": "code",
      "source": [
        "data = ['Aakash','Anik', 'Ovik']\n",
        "\n",
        "#print the entire list \n",
        "print(data)\n",
        "\n",
        "#print each items int he list by it's index strting from 0 which is the first item. \n",
        "print(data[0])\n",
        "print(data[1])\n",
        "print(data[2])\n",
        "\n",
        "#add add a string item to the list \n",
        "data.append('Asif')\n",
        "\n",
        "#add a nested list to the list \n",
        "data.append(['hello'])\n",
        "\n",
        "print(data)\n",
        "\n",
        "#add an integer to the list \n",
        "data.append(5)\n",
        "\n",
        "print(data)"
      ],
      "metadata": {
        "colab": {
          "base_uri": "https://localhost:8080/"
        },
        "id": "nkfXDJxQpUWZ",
        "outputId": "bfbd7f2b-2dce-448f-f5a7-79b4c182374d"
      },
      "execution_count": null,
      "outputs": [
        {
          "output_type": "stream",
          "name": "stdout",
          "text": [
            "['Aakash', 'Anik', 'Ovik']\n",
            "Aakash\n",
            "Anik\n",
            "Ovik\n",
            "['Aakash', 'Anik', 'Ovik', 'Asif', ['hello']]\n",
            "['Aakash', 'Anik', 'Ovik', 'Asif', ['hello'], 5]\n"
          ]
        }
      ]
    },
    {
      "cell_type": "markdown",
      "source": [
        "#Slicing a list \n",
        "\n",
        "[1:4:3]\n",
        "\n",
        "First number - starting position (inclusive)\n",
        "\n",
        "Second number - stoppint position (exclusive)\n",
        "\n",
        "Third number - step\n"
      ],
      "metadata": {
        "id": "VHQOa3I9xqhe"
      }
    },
    {
      "cell_type": "code",
      "source": [
        "#Let's create a new list replacing the old one\n",
        "\n",
        "data = ['Robiul', 'Yawer', 'Milton', 'Ershad']\n",
        "\n",
        "#print the second element starting from 0, so the second element in the list is at index 1 (Yawer)\n",
        "print(data[1])\n",
        "\n",
        "#print by starting index 1 and stop stopting at index 3 and then 4\n",
        "print(data[1:3])\n",
        "print(data[1:4])\n",
        "\n",
        "# start at the beginng of the list and print everything untill the stopint point, 4 in this case\n",
        "print(data[:4])\n",
        "\n",
        "#print from starting point to all the way to the end of the list\n",
        "print(data[1:])\n",
        "\n",
        "#print the entire list \n",
        "print(data[:])\n",
        "\n",
        "#print by start, stop and a step interval\n",
        "print(data[1:4:2])\n",
        "\n"
      ],
      "metadata": {
        "colab": {
          "base_uri": "https://localhost:8080/"
        },
        "id": "bRlBdywCyLoP",
        "outputId": "f22b5d61-3e2f-4d51-9052-c5b123882c9e"
      },
      "execution_count": null,
      "outputs": [
        {
          "output_type": "stream",
          "name": "stdout",
          "text": [
            "Yawer\n",
            "['Yawer', 'Milton']\n",
            "['Yawer', 'Milton', 'Ershad']\n",
            "['Robiul', 'Yawer', 'Milton', 'Ershad']\n",
            "['Yawer', 'Milton', 'Ershad']\n",
            "['Robiul', 'Yawer', 'Milton', 'Ershad']\n",
            "['Yawer', 'Ershad']\n"
          ]
        }
      ]
    },
    {
      "cell_type": "markdown",
      "source": [
        "#Set\n",
        "A set is just like a list, except the order of the itmes does not matter as it will change in the output, and it does not allow any duplicate data. \n"
      ],
      "metadata": {
        "id": "e74DXHkQ0f9M"
      }
    },
    {
      "cell_type": "code",
      "source": [
        "data = {'Robiul', 'Yawer', 'Milton', 'Ershad', 'Imtiaz', 'Imtiaz'}\n",
        "print(data)\n"
      ],
      "metadata": {
        "colab": {
          "base_uri": "https://localhost:8080/"
        },
        "id": "M0SbFXnA1FAs",
        "outputId": "7d84af21-d690-4be9-8ef9-a565c89bce69"
      },
      "execution_count": null,
      "outputs": [
        {
          "output_type": "stream",
          "name": "stdout",
          "text": [
            "{'Yawer', 'Ershad', 'Imtiaz', 'Milton', 'Robiul'}\n"
          ]
        }
      ]
    },
    {
      "cell_type": "markdown",
      "source": [
        "#Dictionary\n",
        "Uses a key value pair \n",
        "\n"
      ],
      "metadata": {
        "id": "vNstCVyA2rC6"
      }
    },
    {
      "cell_type": "code",
      "source": [
        "data_dictionary = {\n",
        "    'Robiul' : 10,\n",
        "    'Yawer' :  20,\n",
        "    'Milton' : 30,\n",
        "    'Washim' : 40,\n",
        "    'Ershad' : 50,\n",
        "    'Imtiaz' : 60,\n",
        "}\n",
        "\n",
        "print(data_dictionary)\n",
        "print(\" \")\n",
        "\n",
        "#as mentioned before dcitionaries are easily convirtble to json data, we can actually \n",
        "#use a get method to fetch the value of the data by it's key.\n",
        "\n",
        "print(data_dictionary.get('Milton'))"
      ],
      "metadata": {
        "colab": {
          "base_uri": "https://localhost:8080/"
        },
        "id": "ezTgokK73X8z",
        "outputId": "31ca0ded-4c35-4cc8-de59-baf4a3a97a9c"
      },
      "execution_count": null,
      "outputs": [
        {
          "output_type": "stream",
          "name": "stdout",
          "text": [
            "{'Robiul': 10, 'Yawer': 20, 'Milton': 30, 'Washim': 40, 'Ershad': 50, 'Imtiaz': 60}\n",
            " \n",
            "30\n"
          ]
        }
      ]
    },
    {
      "cell_type": "markdown",
      "source": [
        "# Control flow - Loops and Conditionals \n",
        "\n"
      ],
      "metadata": {
        "id": "oxt_KGMM50Yt"
      }
    },
    {
      "cell_type": "markdown",
      "source": [
        "##For Loops "
      ],
      "metadata": {
        "id": "gVluQq9j5-aH"
      }
    },
    {
      "cell_type": "code",
      "source": [
        "data = ['a','b','c','d','e']\n",
        "\n",
        "\n",
        "for i in range(10):\n",
        "  print(i)\n",
        "\n",
        "print(\"\")    #printing empty spaces to sperate the output for better readabilty\n",
        "\n",
        "#print all the elements in the list\n",
        "for i in range(5):\n",
        "  print(data[i])\n",
        "\n",
        "print(\"\")\n",
        "\n",
        "#print the lenth of the list\n",
        "print(len(data))\n",
        "print(\"\")\n",
        "\n",
        "#print the items based on the length of the collection,\n",
        "#so we dont have to hard code the range value 5 like we did before.\n",
        "for i in range(len(data)):\n",
        "  print(data[i])\n",
        "\n",
        "print(\"\")\n",
        "\n",
        "#there is a better way to do this\n",
        "for letter in data:\n",
        "  print(letter)\n",
        "print(\"\")\n",
        "\n",
        "#so far we have itterated thourgh the range, lenth of a range, and a list (data) directly\n",
        "#sets are also iterable. Behind the scene, any thing that im plements a particular method\n",
        "# __iter__(), can be used in a loop. \n",
        "\n",
        "data = {'Robiul', 'Yawer', 'Milton', 'Washim', 'Ershad',  'Imtiaz', 'Imtiaz'}\n",
        "\n",
        "for letter in data:\n",
        "    print(letter)\n",
        "\n",
        "print(\"\")\n",
        "\n",
        "# we can use the enumarte function to get the index and it's value\n",
        "\n",
        "data = ['a','b','c','d','e']\n",
        "\n",
        "#withouth enumarte function\n",
        "for letter in data:\n",
        "    print(letter)\n",
        "\n",
        "print(\"\")\n",
        "\n",
        "#with enumarte function\n",
        "for i, letter in enumerate(data):\n",
        "  print(i, letter)\n",
        "\n",
        "\n"
      ],
      "metadata": {
        "colab": {
          "base_uri": "https://localhost:8080/"
        },
        "id": "kYBD0Vg46KlL",
        "outputId": "77767d14-0e50-45a8-d1ae-398c15277909"
      },
      "execution_count": null,
      "outputs": [
        {
          "output_type": "stream",
          "name": "stdout",
          "text": [
            "0\n",
            "1\n",
            "2\n",
            "3\n",
            "4\n",
            "5\n",
            "6\n",
            "7\n",
            "8\n",
            "9\n",
            "\n",
            "a\n",
            "b\n",
            "c\n",
            "d\n",
            "e\n",
            "\n",
            "5\n",
            "\n",
            "a\n",
            "b\n",
            "c\n",
            "d\n",
            "e\n",
            "\n",
            "a\n",
            "b\n",
            "c\n",
            "d\n",
            "e\n",
            "\n",
            "Washim\n",
            "Yawer\n",
            "Ershad\n",
            "Imtiaz\n",
            "Milton\n",
            "Robiul\n",
            "\n",
            "a\n",
            "b\n",
            "c\n",
            "d\n",
            "e\n",
            "\n",
            "0 a\n",
            "1 b\n",
            "2 c\n",
            "3 d\n",
            "4 e\n"
          ]
        }
      ]
    },
    {
      "cell_type": "code",
      "source": [
        ""
      ],
      "metadata": {
        "id": "Nl086NAQDjcE"
      },
      "execution_count": null,
      "outputs": []
    },
    {
      "cell_type": "markdown",
      "source": [
        "## While Loop"
      ],
      "metadata": {
        "id": "YLiRNGB6AhZ1"
      }
    },
    {
      "cell_type": "code",
      "source": [
        "data = ['a','b','c','d','e']\n",
        "\n",
        "#for while loops we set an iteration variable \n",
        "i = 0 \n",
        "\n",
        "while i < len(data):         # we have acdition of when to stop, which is i < lenth of the data\n",
        "  print(data[i], end=\" \")\n",
        "  i += 1                     # increase the value of the variale after each iteration\n",
        "\n",
        "\n",
        "while True: \n",
        "  x = input()\n",
        "  if x == \"stop\":\n",
        "    break                 #stops the while loop\n",
        "  elif x == \"special\":\n",
        "    continue              # skips the next steps and continues with the loop\n",
        "  else: \n",
        "    print(\"it wasn't stop or special\")\n",
        "  print(\"printing data...\")\n",
        "\n"
      ],
      "metadata": {
        "colab": {
          "base_uri": "https://localhost:8080/"
        },
        "id": "eRY1D0CkAnB4",
        "outputId": "5aa5730c-4463-4c7b-ac8b-797585822f99"
      },
      "execution_count": null,
      "outputs": [
        {
          "name": "stdout",
          "output_type": "stream",
          "text": [
            "a b c d e hi\n",
            "it wasn't stop or special\n",
            "printing data...\n",
            "how are you\n",
            "it wasn't stop or special\n",
            "printing data...\n",
            "pecial\n",
            "it wasn't stop or special\n",
            "printing data...\n",
            "special\n",
            "stop\n"
          ]
        }
      ]
    },
    {
      "cell_type": "markdown",
      "source": [
        "#Iterating though a Dictionary\n"
      ],
      "metadata": {
        "id": "KK7IVDk7DhAZ"
      }
    },
    {
      "cell_type": "code",
      "source": [
        "\n",
        "#Let's create a dictionary with some data, in a key:value pair format\n",
        "data_dictionary = {\n",
        "   10: 'Robiul',\n",
        "   20: 'Yawer',\n",
        "   30: 'Milton',\n",
        "   40: 'Washim',\n",
        "   50: 'Ershad',\n",
        "   60: 'Imtiaz',\n",
        "}\n",
        "\n",
        "#print the dicitonary \n",
        "print(data_dictionary)  \n",
        "\n",
        "print(\"\")\n",
        "\n",
        "# we can itterate through a dictionary using a for loop and .items() mehtod\n",
        "for key, value in data_dictionary.items():\n",
        "  print(key,value)\n",
        "\n",
        "\n",
        "print(\"\")\n",
        "\n",
        "# can also check for things by its key or value.\n",
        "for key, value in data_dictionary.items():\n",
        "  if value == 'Milton': \n",
        "    print('we found Milton!!!')\n",
        "    break\n",
        "  print(key,value)\n"
      ],
      "metadata": {
        "colab": {
          "base_uri": "https://localhost:8080/"
        },
        "id": "9J_7H1ugDlYY",
        "outputId": "745a6dc0-7bc9-4241-e55a-a46c6c96f240"
      },
      "execution_count": null,
      "outputs": [
        {
          "output_type": "stream",
          "name": "stdout",
          "text": [
            "{10: 'Robiul', 20: 'Yawer', 30: 'Milton', 40: 'Washim', 50: 'Ershad', 60: 'Imtiaz'}\n",
            "\n",
            "10 Robiul\n",
            "20 Yawer\n",
            "30 Milton\n",
            "40 Washim\n",
            "50 Ershad\n",
            "60 Imtiaz\n",
            "\n",
            "10 Robiul\n",
            "20 Yawer\n",
            "we found Milton!!!\n"
          ]
        }
      ]
    },
    {
      "cell_type": "markdown",
      "source": [
        "#Guessing game\n",
        "\n",
        "Generate a a random number module \n",
        "\n",
        "do while\n",
        "\n",
        "do something once-pssibly repeat it\n",
        "\n",
        "Ask us for a number. Ifwe get it wrong, ask again. \n",
        "\n",
        "logic for rigt/wrong: guessed == correct value \n",
        "\n",
        "\n"
      ],
      "metadata": {
        "id": "mNn31MsFKKUn"
      }
    },
    {
      "cell_type": "code",
      "source": [
        "#lets import the random module \n",
        "from random import randint\n",
        "\n",
        "#assigh variables for low and high range.\n",
        "low = 0\n",
        "high = 100\n",
        "\n",
        "#print a random number between 0 to 100 and assign it to a variable \n",
        "correct = randint(low, high)\n",
        "\n",
        "print(f'Guess an number between {low} and {high}.')\n",
        "\n",
        "\n",
        "while True: \n",
        "  # do something\n",
        "  # check to see if we should do it again\n",
        "  guess = int(input())\n",
        "  # print(guess, correct)\n",
        "  # print(type(guess), type(correct))\n",
        "  if guess < correct: \n",
        "    print(\"Guess higher\")\n",
        "  elif guess > correct: \n",
        "    print(\"Guess lower\")\n",
        "  else: \n",
        "    print(\"Well done! You win!!!! \")\n",
        "    break\n",
        "\n",
        "#Whats the best way to take your first gusess? start in the middle of the range which is 50. \n",
        "#0(n)- operation splits in half. this is a binary search algorhythm."
      ],
      "metadata": {
        "colab": {
          "base_uri": "https://localhost:8080/"
        },
        "id": "n5ikwYVkKrCL",
        "outputId": "45d29725-a8a8-443d-b31e-56e7a924c848"
      },
      "execution_count": null,
      "outputs": [
        {
          "output_type": "stream",
          "name": "stdout",
          "text": [
            "Guess an number between 0 and 100.\n",
            "50\n",
            "Guess lower\n",
            "25\n",
            "Guess higher\n",
            "37\n",
            "Guess lower\n",
            "30\n",
            "Guess lower\n",
            "28\n",
            "Guess lower\n",
            "26\n",
            "Well done! You win!!!! \n"
          ]
        }
      ]
    }
  ]
}