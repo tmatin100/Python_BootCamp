{
  "nbformat": 4,
  "nbformat_minor": 0,
  "metadata": {
    "colab": {
      "name": "T.Matin-python-3.ipynb",
      "provenance": [],
      "collapsed_sections": [],
      "include_colab_link": true
    },
    "kernelspec": {
      "name": "python3",
      "display_name": "Python 3"
    }
  },
  "cells": [
    {
      "cell_type": "markdown",
      "metadata": {
        "id": "view-in-github",
        "colab_type": "text"
      },
      "source": [
        "<a href=\"https://colab.research.google.com/github/tmatin100/Python_BootCamp/blob/main/T_Matin_python_3.ipynb\" target=\"_parent\"><img src=\"https://colab.research.google.com/assets/colab-badge.svg\" alt=\"Open In Colab\"/></a>"
      ]
    },
    {
      "cell_type": "markdown",
      "metadata": {
        "id": "tjrvmu9bhiqy"
      },
      "source": [
        "# Welcome to week 3!\n"
      ]
    },
    {
      "cell_type": "code",
      "metadata": {
        "id": "vm3NM9PwhZfk",
        "colab": {
          "base_uri": "https://localhost:8080/"
        },
        "outputId": "419003bf-163a-483c-8a63-1add5531a2f9"
      },
      "source": [
        "#grades = {}\n",
        "#print(grades)\n",
        "#print(type(grades))\n",
        "\n",
        "#grades2 = set()\n",
        "#print(grades2)\n",
        "#print(type(grades2))\n",
        "\n",
        "#nested dictionary\n",
        "grades = { \n",
        "    'Kayla': {\n",
        "        'math': [90, 80, 30, 20,], \n",
        "        'science': [94, 93, 92, 91], \n",
        "        'history': [12, 23, 23, 54],\n",
        "        'reading': [54, 23, 23, 54]\n",
        "    }, \n",
        "    'Caleb' : {\n",
        "        'math': [9, 8, 3, 2], \n",
        "        'science': [94, 3, 2, 23, 5],\n",
        "        'history': [12, 32, 32, 54], \n",
        "        'reading': [54, 23, 43, 54]\n",
        "    }, \n",
        "    'David' : {\n",
        "        'math': [20, 50, 20, 60],\n",
        "        'science': [44, 93, 32, 91],\n",
        "        'history': [12, 32, 32, 54],\n",
        "        'reading': [54, 23, 43, 54]\n",
        "        \n",
        "    }\n",
        "}\n",
        "\n",
        "print(grades['Kayla'])\n",
        "print(grades['David']['math'])\n",
        "print(grades['David']['math'][1])\n",
        "print(grades)\n",
        "\n",
        "print()\n",
        "\n",
        "for name in ['David', 'Margot', 'Caleb']:\n",
        "  try: \n",
        "    print(grades[name])\n",
        "  except KeyError as k: \n",
        "    print(\"Error with key. Doesn't exist\", k)\n",
        "\n",
        "print()\n",
        "\n",
        "print(grades.get('David'))\n",
        "print(grades.get('Margot')) \n",
        "\n",
        "print()\n",
        "\n",
        "for name in grades:\n",
        "  print(grades.get(name))\n",
        "\n",
        "print()\n",
        "\n",
        "print( grades.get('David').get('math')[1])\n",
        "print(grades.get('Margot', {}).get('math'))\n",
        "\n",
        "\n",
        "try:\n",
        "  grades['Margot']\n",
        "except KeyError as k : \n",
        "  print(k, \"key does not exist\")\n",
        "\n",
        "print()\n",
        "\n",
        "\n",
        "try:\n",
        "  grades.get('Margot').get('math')\n",
        "except Exception as e:\n",
        "  print(e, \"Something went wrong\")\n",
        "\n",
        "\n",
        "#recomended method\n",
        "print(grades.get('Margot', {}).get('math'))"
      ],
      "execution_count": null,
      "outputs": [
        {
          "output_type": "stream",
          "name": "stdout",
          "text": [
            "{'math': [90, 80, 30, 20], 'science': [94, 93, 92, 91], 'history': [12, 23, 23, 54], 'reading': [54, 23, 23, 54]}\n",
            "[20, 50, 20, 60]\n",
            "50\n",
            "{'Kayla': {'math': [90, 80, 30, 20], 'science': [94, 93, 92, 91], 'history': [12, 23, 23, 54], 'reading': [54, 23, 23, 54]}, 'Caleb': {'math': [9, 8, 3, 2], 'science': [94, 3, 2, 23, 5], 'history': [12, 32, 32, 54], 'reading': [54, 23, 43, 54]}, 'David': {'math': [20, 50, 20, 60], 'science': [44, 93, 32, 91], 'history': [12, 32, 32, 54], 'reading': [54, 23, 43, 54]}}\n",
            "\n",
            "{'math': [20, 50, 20, 60], 'science': [44, 93, 32, 91], 'history': [12, 32, 32, 54], 'reading': [54, 23, 43, 54]}\n",
            "Error with key. Doesn't exist 'Margot'\n",
            "{'math': [9, 8, 3, 2], 'science': [94, 3, 2, 23, 5], 'history': [12, 32, 32, 54], 'reading': [54, 23, 43, 54]}\n",
            "\n",
            "{'math': [20, 50, 20, 60], 'science': [44, 93, 32, 91], 'history': [12, 32, 32, 54], 'reading': [54, 23, 43, 54]}\n",
            "None\n",
            "\n",
            "{'math': [90, 80, 30, 20], 'science': [94, 93, 92, 91], 'history': [12, 23, 23, 54], 'reading': [54, 23, 23, 54]}\n",
            "{'math': [9, 8, 3, 2], 'science': [94, 3, 2, 23, 5], 'history': [12, 32, 32, 54], 'reading': [54, 23, 43, 54]}\n",
            "{'math': [20, 50, 20, 60], 'science': [44, 93, 32, 91], 'history': [12, 32, 32, 54], 'reading': [54, 23, 43, 54]}\n",
            "\n",
            "50\n",
            "None\n",
            "'Margot' key does not exist\n",
            "\n",
            "'NoneType' object has no attribute 'get' Something went wrong\n",
            "None\n"
          ]
        }
      ]
    },
    {
      "cell_type": "markdown",
      "metadata": {
        "id": "Pm9FX6WDnPLM"
      },
      "source": [
        "# Iterate through a dictionary"
      ]
    },
    {
      "cell_type": "code",
      "source": [
        "from pprint import pprint \n",
        "\n",
        "drinks_in_storage = {\n",
        "    'grape': 5, \n",
        "    'black cherry': 3,\n",
        "    'cola': 4,\n",
        "}\n",
        "\n",
        "print(drinks_in_storage)\n",
        "\n",
        "# for complex dictinaires we can use pprint\n",
        "pprint(drinks_in_storage)\n",
        "\n",
        "print()\n",
        "\n",
        "# we can itterate through a dictionary, however this will only print the key, in this case drink\n",
        "for drink in drinks_in_storage:\n",
        "  print(drink)\n",
        "\n",
        "#we can get both the key and the values using the .item() method.\n",
        "for drink, val in drinks_in_storage.items():\n",
        "  print(drink, val)\n",
        "\n",
        "print()\n",
        "#lets itterate though a new list and add them to our existing dictionary \n",
        "drinks_purchased = [['grape', 3], ['black cherry', 1], ['cola', 5], ['orange', 12]]\n",
        "print(drinks_in_storage)\n",
        "print(drinks_purchased)\n",
        "\n",
        "for drink in drinks_purchased:\n",
        "  if drinks_in_storage.get(drink[0]):\n",
        "    drinks_in_storage[drink[0]] += drink[1]   #incrementing value by it's index\n",
        "  else:\n",
        "    drinks_in_storage[drink[0]] = drink[1]  #if it doenst exist add it to the dictionary\n",
        "\n",
        "\n",
        "print(drinks_in_storage)\n"
      ],
      "metadata": {
        "colab": {
          "base_uri": "https://localhost:8080/"
        },
        "id": "yqtVa2S874oC",
        "outputId": "8cdf7f97-187b-4b3f-f843-f8509f783552"
      },
      "execution_count": null,
      "outputs": [
        {
          "output_type": "stream",
          "name": "stdout",
          "text": [
            "{'grape': 5, 'black cherry': 3, 'cola': 4}\n",
            "{'black cherry': 3, 'cola': 4, 'grape': 5}\n",
            "\n",
            "grape\n",
            "black cherry\n",
            "cola\n",
            "grape 5\n",
            "black cherry 3\n",
            "cola 4\n",
            "\n",
            "{'grape': 5, 'black cherry': 3, 'cola': 4}\n",
            "[['grape', 3], ['black cherry', 1], ['cola', 5], ['orange', 12]]\n",
            "{'grape': 8, 'black cherry': 4, 'cola': 9, 'orange': 12}\n"
          ]
        }
      ]
    },
    {
      "cell_type": "code",
      "source": [
        "from collections import defaultdict\n",
        "\n",
        "drinks_in_storage = {\n",
        "    'grape': 5,\n",
        "    'black cherry': 3,\n",
        "    'cola': 4\n",
        "}\n",
        "#constructing a default dictionary using the drinks_in_stoarge dictionary\n",
        "drinks_in_storage = defaultdict(int, drinks_in_storage)\n",
        "\n",
        "drinks_purchased = [['grape', 3], ['black cherry', 1], ['cola', 5], ['orange', 12]]\n",
        "\n",
        "for drink in drinks_purchased:\n",
        "  drinks_in_storage[drink[0]] += drink[1]\n",
        "\n",
        "print(drinks_in_storage)\n",
        "\n",
        "for drink, val in drinks_in_storage.items():\n",
        "  print(f'{val} {drink} drinks')\n",
        "\n",
        "\n"
      ],
      "metadata": {
        "colab": {
          "base_uri": "https://localhost:8080/"
        },
        "id": "1B5Oa2vzz4Vl",
        "outputId": "3085f6c7-ffb5-4df9-e122-c4326af7a180"
      },
      "execution_count": null,
      "outputs": [
        {
          "output_type": "stream",
          "name": "stdout",
          "text": [
            "defaultdict(<class 'int'>, {'grape': 8, 'black cherry': 4, 'cola': 9, 'orange': 12})\n",
            "8 grape drinks\n",
            "4 black cherry drinks\n",
            "9 cola drinks\n",
            "12 orange drinks\n"
          ]
        }
      ]
    },
    {
      "cell_type": "code",
      "source": [
        "#create an empty dictionary \n",
        "favorite_drinks = {}\n",
        "\n",
        "while True: \n",
        "  print(\"Type Q to quit anytime\")\n",
        "  drink = input(\"Enter drink name: \")\n",
        "  if str.lower(drink)=='q': \n",
        "    break\n",
        "  amount = int(input(\"How many?: \"))\n",
        "  if str.lower(drink) == 'q':\n",
        "    break\n",
        "      \n",
        "  favorite_drinks[drink] = amount \n",
        "  print(favorite_drinks)\n",
        "\n",
        "print(\"Final drinks: \" , favorite_drinks)\n",
        "\n",
        "\n"
      ],
      "metadata": {
        "colab": {
          "base_uri": "https://localhost:8080/"
        },
        "id": "72qJiGab1_e8",
        "outputId": "be6636ff-0279-4b72-e3e2-43f0b0ed5e0e"
      },
      "execution_count": null,
      "outputs": [
        {
          "output_type": "stream",
          "name": "stdout",
          "text": [
            "Type Q to quit anytime\n",
            "Enter drink name: Orage\n",
            "How many?: 100\n",
            "{'Orage': 100}\n",
            "Type Q to quit anytime\n",
            "Enter drink name: Lime \n",
            "How many?: 200\n",
            "{'Orage': 100, 'Lime ': 200}\n",
            "Type Q to quit anytime\n",
            "Enter drink name: Mango\n",
            "How many?: 300\n",
            "{'Orage': 100, 'Lime ': 200, 'Mango': 300}\n",
            "Type Q to quit anytime\n",
            "Enter drink name: Q\n",
            "Final drinks:  {'Orage': 100, 'Lime ': 200, 'Mango': 300}\n"
          ]
        }
      ]
    },
    {
      "cell_type": "markdown",
      "source": [
        "Let's combine two dictionaires by passing one into the other "
      ],
      "metadata": {
        "id": "GgoBrkDP4HQl"
      }
    },
    {
      "cell_type": "code",
      "source": [
        "my_drinks = {\n",
        "    'grape':5,\n",
        "    'black cherry': 3,\n",
        "    'cola': 4\n",
        "}\n",
        "\n",
        "her_drinks = {\n",
        "    'coconut':5,\n",
        "    'root beer': 3,\n",
        "    'lime': 4,\n",
        "    'cola': 10\n",
        "}\n",
        "\n",
        "#lets use the method called .update() to pass in a dictionary\n",
        "#notice the cola amount is replaced from 4 to 10 , and not incremented.\n",
        "my_drinks.update(her_drinks)\n",
        "print(my_drinks)\n"
      ],
      "metadata": {
        "colab": {
          "base_uri": "https://localhost:8080/"
        },
        "id": "bEUnYOJe4FZW",
        "outputId": "fc6c7d61-343d-4fe0-ebdd-59b0e376c77b"
      },
      "execution_count": null,
      "outputs": [
        {
          "output_type": "stream",
          "name": "stdout",
          "text": [
            "{'grape': 5, 'black cherry': 3, 'cola': 10, 'coconut': 5, 'root beer': 3, 'lime': 4}\n"
          ]
        }
      ]
    },
    {
      "cell_type": "markdown",
      "source": [
        "#Union of a dcitionary"
      ],
      "metadata": {
        "id": "IOAEFRtN9hO4"
      }
    },
    {
      "cell_type": "code",
      "source": [
        "import platform\n",
        "platform.python_version()\n",
        "\n"
      ],
      "metadata": {
        "colab": {
          "base_uri": "https://localhost:8080/",
          "height": 35
        },
        "id": "EIuMuOkp7t5q",
        "outputId": "4e96a7cb-f9a9-4890-b21c-82aa0f30d38f"
      },
      "execution_count": null,
      "outputs": [
        {
          "output_type": "execute_result",
          "data": {
            "text/plain": [
              "'3.7.13'"
            ],
            "application/vnd.google.colaboratory.intrinsic+json": {
              "type": "string"
            }
          },
          "metadata": {},
          "execution_count": 16
        }
      ]
    },
    {
      "cell_type": "code",
      "source": [
        "import platform\n",
        "if int(platform.python_version()[2]) >= 9:\n",
        "  my_drinks = {\n",
        "    'grape':5,\n",
        "    'black cherry': 3,\n",
        "    'cola': 4\n",
        "  }\n",
        "\n",
        "  her_drinks = {\n",
        "    'coconut':5,\n",
        "    'root beer': 3,\n",
        "    'lime': 4,\n",
        "    'cola': 10\n",
        "  }\n",
        "\n",
        "  print(my_drinks | her_drinks)\n",
        "else:\n",
        "  print(\"python is\", platform.python_version())"
      ],
      "metadata": {
        "colab": {
          "base_uri": "https://localhost:8080/"
        },
        "id": "CeUbATVA-gg8",
        "outputId": "ec9f8299-87ef-4a94-c5ef-a56840bbb7b5"
      },
      "execution_count": null,
      "outputs": [
        {
          "output_type": "stream",
          "name": "stdout",
          "text": [
            "python is 3.7.13\n"
          ]
        }
      ]
    },
    {
      "cell_type": "markdown",
      "source": [
        "Sets"
      ],
      "metadata": {
        "id": "zOhhpqhn-uK1"
      }
    },
    {
      "cell_type": "code",
      "source": [
        ""
      ],
      "metadata": {
        "id": "pge4S-B5-vmJ"
      },
      "execution_count": null,
      "outputs": []
    },
    {
      "cell_type": "code",
      "metadata": {
        "id": "kgkAbpK6tp6l",
        "colab": {
          "base_uri": "https://localhost:8080/"
        },
        "outputId": "41a0ce34-4897-4d48-ee81-ef60b15013ac"
      },
      "source": [
        "my_drinks = {'grape', 'cola', 'black cherry'}\n",
        "her_drinks = {'lime', 'cola'}\n",
        "print(my_drinks)\n",
        "print(her_drinks)\n",
        "print(my_drinks, her_drinks)\n",
        "print()\n",
        "\n",
        "print(\"union\", my_drinks | her_drinks)   #combines eveyrthing\n",
        "print()\n",
        "\n",
        "print(\"intersection\", my_drinks & her_drinks)  #shard elements\n",
        "print()\n",
        "\n",
        "print(\"difference\", my_drinks - her_drinks)  # subtracts all elments in the second set from the first one\n",
        "print()\n",
        "\n",
        "print(\"symmetric difference\", my_drinks ^ her_drinks)   # anyting that is not shared "
      ],
      "execution_count": null,
      "outputs": [
        {
          "output_type": "stream",
          "name": "stdout",
          "text": [
            "{'black cherry', 'grape', 'cola'}\n",
            "{'cola', 'lime'}\n",
            "{'black cherry', 'grape', 'cola'} {'cola', 'lime'}\n",
            "\n",
            "union {'cola', 'black cherry', 'grape', 'lime'}\n",
            "\n",
            "intersection {'cola'}\n",
            "\n",
            "difference {'black cherry', 'grape'}\n",
            "\n",
            "symmetric difference {'black cherry', 'grape', 'lime'}\n"
          ]
        }
      ]
    },
    {
      "cell_type": "markdown",
      "metadata": {
        "id": "I1xfPl76QRhP"
      },
      "source": [
        "# Currency Converter"
      ]
    },
    {
      "cell_type": "markdown",
      "metadata": {
        "id": "J-OMfIqaRgTw"
      },
      "source": [
        "Here is a simple conversion example"
      ]
    },
    {
      "cell_type": "markdown",
      "source": [
        "Let's create a calculator to see how much bitcoin you can buy with the money you have. "
      ],
      "metadata": {
        "id": "JXv_8oogF3VR"
      }
    },
    {
      "cell_type": "code",
      "source": [
        "dollars = int(input('How many dollars do you have?' ))\n",
        "price = 44809.20\n",
        "\n",
        "print(f'You can buy {dollars / price} bitcoin')"
      ],
      "metadata": {
        "colab": {
          "base_uri": "https://localhost:8080/"
        },
        "id": "P2eoEedYAtv2",
        "outputId": "c46d1beb-b147-4373-ab8d-c18f58bc72d6"
      },
      "execution_count": null,
      "outputs": [
        {
          "output_type": "stream",
          "name": "stdout",
          "text": [
            "How many dollars do you have?100\n",
            "You can buy 0.002231684564776876 bitcoin\n"
          ]
        }
      ]
    },
    {
      "cell_type": "markdown",
      "source": [
        "We can use an api for current price of bitcoin to determine how much bitcoin we can get with the dollar value. "
      ],
      "metadata": {
        "id": "jdpYEiGCF_ZO"
      }
    },
    {
      "cell_type": "code",
      "source": [
        "import requests\n",
        "dollars = int(input('How many dollars do you have?'))\n",
        "\n",
        "#response = requests.get('https://api.exchange.coinbase.com/v2/currencies')\n",
        "response = requests.get('https://api.coindesk.com/v1/bpi/currentprice.json')\n",
        "\n",
        "#print(response.json())\n",
        "\n",
        "#get the usd amount form the response json data \n",
        "price =  response.json().get('bpi').get('USD').get('rate_float')\n",
        "\n",
        "print(f'You can get {dollars/price} bitcoin')"
      ],
      "metadata": {
        "colab": {
          "base_uri": "https://localhost:8080/"
        },
        "id": "g9f5vA1hCzQu",
        "outputId": "04850279-43b6-46e0-f5cb-13734d3c49c0"
      },
      "execution_count": null,
      "outputs": [
        {
          "output_type": "stream",
          "name": "stdout",
          "text": [
            "How many dollars do you have?50000\n",
            "You can get 1.0842576394787402 bitcoin\n"
          ]
        }
      ]
    },
    {
      "cell_type": "markdown",
      "source": [
        "We can use the decimal module to convert string data into decimals. "
      ],
      "metadata": {
        "id": "5e7o3aLFJwsT"
      }
    },
    {
      "cell_type": "code",
      "source": [
        "from pprint import pprint\n",
        "from decimal import Decimal\n",
        "\n",
        "response = requests.get('https://api.coindesk.com/v1/bpi/currentprice.json')\n",
        "pprint(response.json())\n",
        "\n",
        "price = Decimal(response.json().get('bpi').get('USD').get('rate').replace(',', ''))\n",
        "print(price)"
      ],
      "metadata": {
        "colab": {
          "base_uri": "https://localhost:8080/"
        },
        "id": "Eq4lKuPGJnX9",
        "outputId": "9ba2bc37-f3f0-4a98-f22c-b19e0fe1d5ab"
      },
      "execution_count": null,
      "outputs": [
        {
          "output_type": "stream",
          "name": "stdout",
          "text": [
            "{'bpi': {'EUR': {'code': 'EUR',\n",
            "                 'description': 'Euro',\n",
            "                 'rate': '41,910.9991',\n",
            "                 'rate_float': 41910.9991,\n",
            "                 'symbol': '&euro;'},\n",
            "         'GBP': {'code': 'GBP',\n",
            "                 'description': 'British Pound Sterling',\n",
            "                 'rate': '34,919.0646',\n",
            "                 'rate_float': 34919.0646,\n",
            "                 'symbol': '&pound;'},\n",
            "         'USD': {'code': 'USD',\n",
            "                 'description': 'United States Dollar',\n",
            "                 'rate': '46,040.1565',\n",
            "                 'rate_float': 46040.1565,\n",
            "                 'symbol': '&#36;'}},\n",
            " 'chartName': 'Bitcoin',\n",
            " 'disclaimer': 'This data was produced from the CoinDesk Bitcoin Price Index '\n",
            "               '(USD). Non-USD currency data converted using hourly conversion '\n",
            "               'rate from openexchangerates.org',\n",
            " 'time': {'updated': 'Mar 27, 2022 21:27:00 UTC',\n",
            "          'updatedISO': '2022-03-27T21:27:00+00:00',\n",
            "          'updateduk': 'Mar 27, 2022 at 22:27 BST'}}\n",
            "46040.1565\n"
          ]
        }
      ]
    },
    {
      "cell_type": "markdown",
      "metadata": {
        "id": "U7SrXRtkTkaO"
      },
      "source": [
        "# Price checker\n",
        "https://coinmarketcap.com/api/documentation/v1\n",
        "\n",
        "https://pro-api.coinmarketcap.com/v1/cryptocurrency/map\n",
        "\n",
        "\n",
        "\n"
      ]
    },
    {
      "cell_type": "code",
      "source": [
        "import requests\n",
        "from pprint import pprint\n",
        "#response = requests.get('https://pro-api.coinmarketcap.com/v1/cryptocurrency/map?CMC_PRO_API_KEY=29cb6142-265e-4850-acf0-6f7c05803c3f&symbol=BTC')\n",
        "#pprint(response.json())\n",
        "\n",
        "\n",
        "def get_coin_id(symbol):\n",
        "  response = requests.get('https://pro-api.coinmarketcap.com/v1/cryptocurrency/map?CMC_PRO_API_KEY=29cb6142-265e-4850-acf0-6f7c05803c3f&symbol=' + symbol)\n",
        "  return response.json().get('data')[0].get('id')\n",
        "\n",
        "coin_id = get_coin_id('ETH')\n",
        "#print(coin_id)\n",
        "\n",
        "#def get_coin_price(coin_id):\n",
        " # response = requests.get(f'https://pro-api.coinmarketcap.com/v1/cryptocurrency/quotes/latest?CMC_PRO_API_KEY=29cb6142-265e-4850-acf0-6f7c05803c3f&id={coin_id}')\n",
        " # pprint(response.json())\n",
        "\n",
        "def get_coin_price(coin_id):\n",
        "  url = 'https://pro-api.coinmarketcap.com/v1/cryptocurrency/quotes/latest'\n",
        "  key = '29cb6142-265e-4850-acf0-6f7c05803c3f'\n",
        "  response = requests.get(f'{url}?CMC_PRO_API_KEY={key}&id={coin_id}')\n",
        "  return response.json().get('data').get(str(coin_id)).get('quote').get('USD').get('price')\n",
        "\n",
        "try: \n",
        "  coin = input(\"Give me a crypto symbol: \")\n",
        "  coin_id = get_coin_id(coin)\n",
        "  price = get_coin_price(coin_id)\n",
        "  print(f'One {coin} is worth ${round(price, 2)}')\n",
        "\n",
        "except Exception as e: \n",
        "  print(\"Error checking coin price.\", e )\n",
        "\n",
        "\n",
        " "
      ],
      "metadata": {
        "colab": {
          "base_uri": "https://localhost:8080/"
        },
        "id": "msbFmH5RMb75",
        "outputId": "cb3bff58-fb3e-4ae2-e878-91685c92426f"
      },
      "execution_count": null,
      "outputs": [
        {
          "output_type": "stream",
          "name": "stdout",
          "text": [
            "Give me a crypto symbol: BTC\n",
            "One BTC is worth $47560.4\n"
          ]
        }
      ]
    },
    {
      "cell_type": "markdown",
      "metadata": {
        "id": "MJIaSGEfdq4c"
      },
      "source": [
        "# Passing with params and headers\n",
        "This is a preferd way to do things so we can keep our api keys private"
      ]
    },
    {
      "cell_type": "code",
      "source": [
        "def get_coin_id(symbol):\n",
        "  url = 'https://pro-api.coinmarketcap.com/v1/cryptocurrency/map'\n",
        "\n",
        "  params = {\n",
        "      'symbol': symbol\n",
        "  }\n",
        "\n",
        "  headers = {\n",
        "      'Accepts': 'application/json',\n",
        "      'X-CMC_PRO_API_KEY': '29cb6142-265e-4850-acf0-6f7c05803c3f'\n",
        "  }\n",
        "\n",
        "  response = requests.get(url, params= params, headers=headers)\n",
        "  return response.json().get('data')[0].get('id')\n",
        "\n",
        "coin_id = get_coin_id('BTC')\n",
        "print(coin_id)"
      ],
      "metadata": {
        "colab": {
          "base_uri": "https://localhost:8080/"
        },
        "id": "yiMBd-ma9TCC",
        "outputId": "3d9fec7b-f087-4601-d0ac-b31aff4b4c41"
      },
      "execution_count": null,
      "outputs": [
        {
          "output_type": "stream",
          "name": "stdout",
          "text": [
            "1\n"
          ]
        }
      ]
    },
    {
      "cell_type": "code",
      "source": [
        "start = input('Starting currency: ')\n",
        "amount = float(input('How many? '))\n",
        "end = input('Destination currency: ')\n",
        "\n",
        "price1 = get_coin_price(get_coin_id(start))\n",
        "price2 = get_coin_price(get_coin_id(end))\n",
        "print(f'{amount} {start} buys {round(price1 * amount / price2, 2)} {end}')"
      ],
      "metadata": {
        "id": "CIIMif6I-94W",
        "colab": {
          "base_uri": "https://localhost:8080/"
        },
        "outputId": "f5fb3d3f-6382-47a2-89df-722300435ddc"
      },
      "execution_count": null,
      "outputs": [
        {
          "output_type": "stream",
          "name": "stdout",
          "text": [
            "Starting currency: USD\n",
            "How many? 1000\n",
            "Destination currency: XRP\n",
            "1000.0 USD buys 1156.91 XRP\n"
          ]
        }
      ]
    },
    {
      "cell_type": "markdown",
      "metadata": {
        "id": "_Ouk7FDGmXx8"
      },
      "source": [
        "# Object Oriented Programming"
      ]
    },
    {
      "cell_type": "code",
      "source": [
        "from collections import namedtuple\n",
        "class Maze:\n",
        "\n",
        "  def __init__(self, maze=None, start=None, end=None):\n",
        "    self.maze = maze\n",
        "    self.start = start\n",
        "    self.end = end\n",
        "\n",
        "  def __str__(self):\n",
        "    data = ''\n",
        "    for i, row in enumerate(self.maze):\n",
        "      if i == 0:\n",
        "        data += 'X' * (len(row) + 2) + '\\n'\n",
        "      for j, col in enumerate(row):\n",
        "        if j == 0:\n",
        "          data += 'X'\n",
        "        if (i, j) == (self.start.row, self.start.col):\n",
        "          data += '*'\n",
        "        elif (i, j) == (self.end.row, self.end.col):\n",
        "          data += '*'\n",
        "        elif col == 1:\n",
        "          data += ' '\n",
        "        else:\n",
        "          data += 'X'\n",
        "        if j == len(row) - 1:\n",
        "          data += 'X'\n",
        "      data += '\\n'\n",
        "      if i == len(self.maze) - 1:\n",
        "        data += 'X' * (len(row) + 2) + '\\n'\n",
        "    return data\n",
        "\n",
        "\n",
        "  #def solve(self):                          \n",
        "    #return[self.start, '...', self.end]\n",
        "\n",
        "  __repr__ = __str__\n",
        "\n",
        "  def valid_index(self, position):\n",
        "    if position.col < 0 or position.col >= len(self.maze[0]):\n",
        "      return False\n",
        "    elif position.row < 0 or position.row >= len(self.maze):\n",
        "      return False\n",
        "    elif self.maze[position.row][position.col] == 0:\n",
        "      return False\n",
        "\n",
        "    return True\n",
        "\n",
        "\n",
        "  # property treats it as a method within the same Maze class\n",
        "  @property\n",
        "  def solution(self): \n",
        "    current = self.start\n",
        "    path = [current]\n",
        "\n",
        "    while True:\n",
        "      current = path[-1]\n",
        "      import time\n",
        "      time.sleep(2)\n",
        "      self.maze[current.row][current.col] = 0\n",
        "      print(self)\n",
        "      print(current, self.end)\n",
        "      if current == self.end:\n",
        "        return path\n",
        "\n",
        "      #move left\n",
        "      elif self.valid_index(Maze.Position(row=current.row, col=current.col-1)):\n",
        "        current = Maze.Position(row=current.row, col=current.col-1)\n",
        "        path.append(current)\n",
        "        #print('moving left')\n",
        "        continue\n",
        "\n",
        "      #up\n",
        "      elif self.valid_index(Maze.Position(row=current.row-1, col=current.col)):\n",
        "        current = Maze.Position(row=current.row-1, col=current.col)\n",
        "        path.append(current)\n",
        "        #print('moving up')\n",
        "        continue\n",
        "\n",
        "      #right\n",
        "      elif self.valid_index(Maze.Position(row=current.row, col=current.col+1)):\n",
        "        current = Maze.Position(row=current.row, col=current.col+1)\n",
        "        path.append(current)\n",
        "        #print('moving right')\n",
        "        continue\n",
        "\n",
        "      #down\n",
        "      elif self.valid_index(Maze.Position(row=current.row+1, col=current.col)):\n",
        "        current = Maze.Position(row=current.row+1, col=current.col)\n",
        "        path.append(current)\n",
        "        #print('moving down')\n",
        "        continue\n",
        "\n",
        "\n",
        "     \n",
        "     #checking to see if we are all the way at the beggenign of our path\n",
        "      path.pop()\n",
        "      print('Moving back')\n",
        "      if len(path) == 0: \n",
        "        return []\n",
        "\n",
        "  Position = namedtuple('Position', ['row', 'col'])\n",
        "\n",
        "\n",
        "start = Maze.Position(row=0, col=1)\n",
        "end = Maze.Position(row=3, col=3)\n",
        "\n",
        "\n",
        "maze_structure = [\n",
        "  [1, 1, 1, 1],\n",
        "  [1, 0, 1, 1],\n",
        "  [1, 0, 0, 1],\n",
        "  [1, 1, 0, 1]\n",
        "]\n",
        "\n",
        "maze = Maze(maze_structure, start, end)\n",
        "\n",
        "for position in maze.solution:\n",
        "  print(position)"
      ],
      "metadata": {
        "colab": {
          "base_uri": "https://localhost:8080/"
        },
        "id": "v0EudmhMijUG",
        "outputId": "f9aceef9-ed86-46a3-ecbd-d04279c12e5d"
      },
      "execution_count": null,
      "outputs": [
        {
          "output_type": "stream",
          "name": "stdout",
          "text": [
            "XXXXXX\n",
            "X *  X\n",
            "X X  X\n",
            "X XX X\n",
            "X  X*X\n",
            "XXXXXX\n",
            "\n",
            "Position(row=0, col=1) Position(row=3, col=3)\n",
            "XXXXXX\n",
            "XX*  X\n",
            "X X  X\n",
            "X XX X\n",
            "X  X*X\n",
            "XXXXXX\n",
            "\n",
            "Position(row=0, col=0) Position(row=3, col=3)\n",
            "XXXXXX\n",
            "XX*  X\n",
            "XXX  X\n",
            "X XX X\n",
            "X  X*X\n",
            "XXXXXX\n",
            "\n",
            "Position(row=1, col=0) Position(row=3, col=3)\n",
            "XXXXXX\n",
            "XX*  X\n",
            "XXX  X\n",
            "XXXX X\n",
            "X  X*X\n",
            "XXXXXX\n",
            "\n",
            "Position(row=2, col=0) Position(row=3, col=3)\n",
            "XXXXXX\n",
            "XX*  X\n",
            "XXX  X\n",
            "XXXX X\n",
            "XX X*X\n",
            "XXXXXX\n",
            "\n",
            "Position(row=3, col=0) Position(row=3, col=3)\n",
            "XXXXXX\n",
            "XX*  X\n",
            "XXX  X\n",
            "XXXX X\n",
            "XXXX*X\n",
            "XXXXXX\n",
            "\n",
            "Position(row=3, col=1) Position(row=3, col=3)\n",
            "Moving back\n",
            "XXXXXX\n",
            "XX*  X\n",
            "XXX  X\n",
            "XXXX X\n",
            "XXXX*X\n",
            "XXXXXX\n",
            "\n",
            "Position(row=3, col=0) Position(row=3, col=3)\n",
            "Moving back\n",
            "XXXXXX\n",
            "XX*  X\n",
            "XXX  X\n",
            "XXXX X\n",
            "XXXX*X\n",
            "XXXXXX\n",
            "\n",
            "Position(row=2, col=0) Position(row=3, col=3)\n",
            "Moving back\n",
            "XXXXXX\n",
            "XX*  X\n",
            "XXX  X\n",
            "XXXX X\n",
            "XXXX*X\n",
            "XXXXXX\n",
            "\n",
            "Position(row=1, col=0) Position(row=3, col=3)\n",
            "Moving back\n",
            "XXXXXX\n",
            "XX*  X\n",
            "XXX  X\n",
            "XXXX X\n",
            "XXXX*X\n",
            "XXXXXX\n",
            "\n",
            "Position(row=0, col=0) Position(row=3, col=3)\n",
            "Moving back\n",
            "XXXXXX\n",
            "XX*  X\n",
            "XXX  X\n",
            "XXXX X\n",
            "XXXX*X\n",
            "XXXXXX\n",
            "\n",
            "Position(row=0, col=1) Position(row=3, col=3)\n",
            "XXXXXX\n",
            "XX*X X\n",
            "XXX  X\n",
            "XXXX X\n",
            "XXXX*X\n",
            "XXXXXX\n",
            "\n",
            "Position(row=0, col=2) Position(row=3, col=3)\n",
            "XXXXXX\n",
            "XX*XXX\n",
            "XXX  X\n",
            "XXXX X\n",
            "XXXX*X\n",
            "XXXXXX\n",
            "\n",
            "Position(row=0, col=3) Position(row=3, col=3)\n",
            "XXXXXX\n",
            "XX*XXX\n",
            "XXX XX\n",
            "XXXX X\n",
            "XXXX*X\n",
            "XXXXXX\n",
            "\n",
            "Position(row=1, col=3) Position(row=3, col=3)\n",
            "XXXXXX\n",
            "XX*XXX\n",
            "XXXXXX\n",
            "XXXX X\n",
            "XXXX*X\n",
            "XXXXXX\n",
            "\n",
            "Position(row=1, col=2) Position(row=3, col=3)\n",
            "Moving back\n",
            "XXXXXX\n",
            "XX*XXX\n",
            "XXXXXX\n",
            "XXXX X\n",
            "XXXX*X\n",
            "XXXXXX\n",
            "\n",
            "Position(row=1, col=3) Position(row=3, col=3)\n",
            "XXXXXX\n",
            "XX*XXX\n",
            "XXXXXX\n",
            "XXXXXX\n",
            "XXXX*X\n",
            "XXXXXX\n",
            "\n",
            "Position(row=2, col=3) Position(row=3, col=3)\n",
            "XXXXXX\n",
            "XX*XXX\n",
            "XXXXXX\n",
            "XXXXXX\n",
            "XXXX*X\n",
            "XXXXXX\n",
            "\n",
            "Position(row=3, col=3) Position(row=3, col=3)\n",
            "Position(row=0, col=1)\n",
            "Position(row=0, col=2)\n",
            "Position(row=0, col=3)\n",
            "Position(row=1, col=3)\n",
            "Position(row=2, col=3)\n",
            "Position(row=3, col=3)\n"
          ]
        }
      ]
    },
    {
      "cell_type": "code",
      "source": [
        "from google.colab import drive\n",
        "drive.mount('/content/drive')"
      ],
      "metadata": {
        "id": "dwWTBnlURd-b",
        "colab": {
          "base_uri": "https://localhost:8080/"
        },
        "outputId": "bc1a7686-c36e-4108-da19-6fc2142049af"
      },
      "execution_count": null,
      "outputs": [
        {
          "output_type": "stream",
          "name": "stdout",
          "text": [
            "Drive already mounted at /content/drive; to attempt to forcibly remount, call drive.mount(\"/content/drive\", force_remount=True).\n"
          ]
        }
      ]
    },
    {
      "cell_type": "code",
      "metadata": {
        "id": "wPSihhA-X3rr"
      },
      "source": [
        "!cp /content/drive/MyDrive/Python_Training_Caleb/mazesolver.py ."
      ],
      "execution_count": null,
      "outputs": []
    },
    {
      "cell_type": "code",
      "source": [
        "import sys\n",
        "sys.path.append('/content/drive/MyDrive/Python_Training_Caleb/mazesolver.py')\n",
        "import mazesolver\n",
        "\n",
        "help(mazesolver)"
      ],
      "metadata": {
        "colab": {
          "base_uri": "https://localhost:8080/"
        },
        "id": "gdIuWyu7UAeF",
        "outputId": "b42612dd-8d4b-4073-9a7e-e815a3bbf3b8"
      },
      "execution_count": null,
      "outputs": [
        {
          "output_type": "stream",
          "name": "stdout",
          "text": [
            "Help on module mazesolver:\n",
            "\n",
            "NAME\n",
            "    mazesolver\n",
            "\n",
            "CLASSES\n",
            "    builtins.object\n",
            "        Maze\n",
            "    \n",
            "    class Maze(builtins.object)\n",
            "     |  Maze(maze=None, start=None, end=None)\n",
            "     |  \n",
            "     |  Methods defined here:\n",
            "     |  \n",
            "     |  __init__(self, maze=None, start=None, end=None)\n",
            "     |      Initialize self.  See help(type(self)) for accurate signature.\n",
            "     |  \n",
            "     |  __repr__ = __str__(self)\n",
            "     |  \n",
            "     |  __str__(self)\n",
            "     |      Return str(self).\n",
            "     |  \n",
            "     |  valid_index(self, position)\n",
            "     |  \n",
            "     |  ----------------------------------------------------------------------\n",
            "     |  Data descriptors defined here:\n",
            "     |  \n",
            "     |  __dict__\n",
            "     |      dictionary for instance variables (if defined)\n",
            "     |  \n",
            "     |  __weakref__\n",
            "     |      list of weak references to the object (if defined)\n",
            "     |  \n",
            "     |  solution\n",
            "     |  \n",
            "     |  ----------------------------------------------------------------------\n",
            "     |  Data and other attributes defined here:\n",
            "     |  \n",
            "     |  Position = <class 'mazesolver.Position'>\n",
            "     |      Position(row, col)\n",
            "\n",
            "FILE\n",
            "    /content/mazesolver.py\n",
            "\n",
            "\n"
          ]
        }
      ]
    },
    {
      "cell_type": "code",
      "source": [
        "dir(mazesolver)"
      ],
      "metadata": {
        "colab": {
          "base_uri": "https://localhost:8080/"
        },
        "id": "apWtE4LDUMuO",
        "outputId": "ccd4475b-32a9-4498-bb58-3d575804147f"
      },
      "execution_count": null,
      "outputs": [
        {
          "output_type": "execute_result",
          "data": {
            "text/plain": [
              "['Maze',\n",
              " '__builtins__',\n",
              " '__cached__',\n",
              " '__doc__',\n",
              " '__file__',\n",
              " '__loader__',\n",
              " '__name__',\n",
              " '__package__',\n",
              " '__spec__',\n",
              " 'namedtuple']"
            ]
          },
          "metadata": {},
          "execution_count": 39
        }
      ]
    },
    {
      "cell_type": "code",
      "source": [
        "import sys\n",
        "sys.path.append('/content/drive/MyDrive/Python_Training_Caleb/mazesolver.py')\n",
        "from mazesolver import Maze\n",
        "\n",
        "start = Maze.Position(row=0, col=1)\n",
        "end = Maze.Position(row=3, col=3)\n",
        "\n",
        "maze_structure = [\n",
        "  [1, 1, 1, 1],\n",
        "  [1, 0, 1, 1],\n",
        "  [1, 0, 0, 1],\n",
        "  [1, 1, 0, 1]\n",
        "]\n",
        "\n",
        "maze = Maze(maze_structure, start, end)\n",
        "for position in maze.solution:\n",
        "  print(position)"
      ],
      "metadata": {
        "colab": {
          "base_uri": "https://localhost:8080/"
        },
        "id": "30c0pIDIUv2_",
        "outputId": "81aff191-e801-4b2f-871b-e40e420a9db9"
      },
      "execution_count": null,
      "outputs": [
        {
          "output_type": "stream",
          "name": "stdout",
          "text": [
            "XXXXXX\n",
            "X *  X\n",
            "X X  X\n",
            "X XX X\n",
            "X  X*X\n",
            "XXXXXX\n",
            "\n",
            "Position(row=0, col=1) Position(row=3, col=3)\n",
            "XXXXXX\n",
            "XX*  X\n",
            "X X  X\n",
            "X XX X\n",
            "X  X*X\n",
            "XXXXXX\n",
            "\n",
            "Position(row=0, col=0) Position(row=3, col=3)\n",
            "XXXXXX\n",
            "XX*  X\n",
            "XXX  X\n",
            "X XX X\n",
            "X  X*X\n",
            "XXXXXX\n",
            "\n",
            "Position(row=1, col=0) Position(row=3, col=3)\n",
            "XXXXXX\n",
            "XX*  X\n",
            "XXX  X\n",
            "XXXX X\n",
            "X  X*X\n",
            "XXXXXX\n",
            "\n",
            "Position(row=2, col=0) Position(row=3, col=3)\n",
            "XXXXXX\n",
            "XX*  X\n",
            "XXX  X\n",
            "XXXX X\n",
            "XX X*X\n",
            "XXXXXX\n",
            "\n",
            "Position(row=3, col=0) Position(row=3, col=3)\n",
            "XXXXXX\n",
            "XX*  X\n",
            "XXX  X\n",
            "XXXX X\n",
            "XXXX*X\n",
            "XXXXXX\n",
            "\n",
            "Position(row=3, col=1) Position(row=3, col=3)\n",
            "Moving back\n",
            "XXXXXX\n",
            "XX*  X\n",
            "XXX  X\n",
            "XXXX X\n",
            "XXXX*X\n",
            "XXXXXX\n",
            "\n",
            "Position(row=3, col=0) Position(row=3, col=3)\n",
            "Moving back\n",
            "XXXXXX\n",
            "XX*  X\n",
            "XXX  X\n",
            "XXXX X\n",
            "XXXX*X\n",
            "XXXXXX\n",
            "\n",
            "Position(row=2, col=0) Position(row=3, col=3)\n",
            "Moving back\n",
            "XXXXXX\n",
            "XX*  X\n",
            "XXX  X\n",
            "XXXX X\n",
            "XXXX*X\n",
            "XXXXXX\n",
            "\n",
            "Position(row=1, col=0) Position(row=3, col=3)\n",
            "Moving back\n",
            "XXXXXX\n",
            "XX*  X\n",
            "XXX  X\n",
            "XXXX X\n",
            "XXXX*X\n",
            "XXXXXX\n",
            "\n",
            "Position(row=0, col=0) Position(row=3, col=3)\n",
            "Moving back\n",
            "XXXXXX\n",
            "XX*  X\n",
            "XXX  X\n",
            "XXXX X\n",
            "XXXX*X\n",
            "XXXXXX\n",
            "\n",
            "Position(row=0, col=1) Position(row=3, col=3)\n",
            "XXXXXX\n",
            "XX*X X\n",
            "XXX  X\n",
            "XXXX X\n",
            "XXXX*X\n",
            "XXXXXX\n",
            "\n",
            "Position(row=0, col=2) Position(row=3, col=3)\n",
            "XXXXXX\n",
            "XX*XXX\n",
            "XXX  X\n",
            "XXXX X\n",
            "XXXX*X\n",
            "XXXXXX\n",
            "\n",
            "Position(row=0, col=3) Position(row=3, col=3)\n",
            "XXXXXX\n",
            "XX*XXX\n",
            "XXX XX\n",
            "XXXX X\n",
            "XXXX*X\n",
            "XXXXXX\n",
            "\n",
            "Position(row=1, col=3) Position(row=3, col=3)\n",
            "XXXXXX\n",
            "XX*XXX\n",
            "XXXXXX\n",
            "XXXX X\n",
            "XXXX*X\n",
            "XXXXXX\n",
            "\n",
            "Position(row=1, col=2) Position(row=3, col=3)\n",
            "Moving back\n",
            "XXXXXX\n",
            "XX*XXX\n",
            "XXXXXX\n",
            "XXXX X\n",
            "XXXX*X\n",
            "XXXXXX\n",
            "\n",
            "Position(row=1, col=3) Position(row=3, col=3)\n",
            "XXXXXX\n",
            "XX*XXX\n",
            "XXXXXX\n",
            "XXXXXX\n",
            "XXXX*X\n",
            "XXXXXX\n",
            "\n",
            "Position(row=2, col=3) Position(row=3, col=3)\n",
            "XXXXXX\n",
            "XX*XXX\n",
            "XXXXXX\n",
            "XXXXXX\n",
            "XXXX*X\n",
            "XXXXXX\n",
            "\n",
            "Position(row=3, col=3) Position(row=3, col=3)\n",
            "Position(row=0, col=1)\n",
            "Position(row=0, col=2)\n",
            "Position(row=0, col=3)\n",
            "Position(row=1, col=3)\n",
            "Position(row=2, col=3)\n",
            "Position(row=3, col=3)\n"
          ]
        }
      ]
    },
    {
      "cell_type": "markdown",
      "source": [
        "Reading Data from a JSON file"
      ],
      "metadata": {
        "id": "qn0SP1BFX3KP"
      }
    },
    {
      "cell_type": "code",
      "source": [
        "import sys\n",
        "import json\n",
        "sys.path.append('/content/drive/MyDrive/Python_Training_Caleb/mazesolver.py')\n",
        "from mazesolver import Maze\n",
        "\n",
        "#open a json file\n",
        "with open('/content/drive/MyDrive/Python_Training_Caleb/mazes.json') as f: \n",
        "  data = json.load(f)\n",
        "print(data)\n",
        "\n",
        "mazes = []\n",
        "\n",
        "for maze in data.get('mazes'):\n",
        "  maze_structure = maze.get('structure')\n",
        "  start = Maze.Position(maze.get('start').get('row'), maze.get('start').get('col'))\n",
        "  end = Maze.Position(maze.get('end').get('row'), maze.get('end').get('col'))\n",
        "  maze = Maze(maze_structure, start, end)\n",
        "  print(maze)\n",
        "  mazes.append(maze)\n",
        "\n",
        "print(mazes)"
      ],
      "metadata": {
        "colab": {
          "base_uri": "https://localhost:8080/"
        },
        "id": "CyRhsK01WjFw",
        "outputId": "c58346a2-4137-40b2-ec99-6aced5544c47"
      },
      "execution_count": null,
      "outputs": [
        {
          "output_type": "stream",
          "name": "stdout",
          "text": [
            "{'mazes': [{'structure': [[1, 1, 1, 1], [0, 0, 1, 0], [1, 1, 1, 1]], 'start': {'row': 0, 'col': 0}, 'end': {'row': 2, 'col': 0}}]}\n",
            "XXXXXX\n",
            "X*   X\n",
            "XXX XX\n",
            "X*   X\n",
            "\n",
            "[XXXXXX\n",
            "X*   X\n",
            "XXX XX\n",
            "X*   X\n",
            "]\n"
          ]
        }
      ]
    },
    {
      "cell_type": "markdown",
      "metadata": {
        "id": "k5nNjR3czGNV"
      },
      "source": [
        "# List Comprehension and Generators"
      ]
    },
    {
      "cell_type": "code",
      "source": [
        "data = [i*i for i in range (10)]\n",
        "print(data)\n",
        "\n",
        "import math \n",
        "\n",
        "data2 = [math.sqrt(i)for i in range(10) if i != 5]\n",
        "print(data2)\n",
        "\n",
        "data = [[1,2,3], [4,5,6], [8,8,9]]\n",
        "flat = []\n",
        "\n",
        "for inner_list in data:\n",
        "  for elem in inner_list: \n",
        "    flat.append(elem)\n",
        "print(flat)\n",
        "\n",
        "#list comprehension way\n",
        "fat = [elem for inner_list in data for elem in inner_list]\n",
        "print(fat)\n",
        "\n",
        "\n",
        "#dictionary comprehension\n",
        "sqrts = {x:math.sqrt(x)for x in range(10)}\n",
        "print(sqrts)"
      ],
      "metadata": {
        "colab": {
          "base_uri": "https://localhost:8080/"
        },
        "id": "4W4ACsizf5fR",
        "outputId": "93564753-766d-426b-87f5-f2dc567ea7df"
      },
      "execution_count": null,
      "outputs": [
        {
          "output_type": "stream",
          "name": "stdout",
          "text": [
            "[0, 1, 4, 9, 16, 25, 36, 49, 64, 81]\n",
            "[0.0, 1.0, 1.4142135623730951, 1.7320508075688772, 2.0, 2.449489742783178, 2.6457513110645907, 2.8284271247461903, 3.0]\n",
            "[1, 2, 3, 4, 5, 6, 8, 8, 9]\n",
            "[1, 2, 3, 4, 5, 6, 8, 8, 9]\n",
            "{0: 0.0, 1: 1.0, 2: 1.4142135623730951, 3: 1.7320508075688772, 4: 2.0, 5: 2.23606797749979, 6: 2.449489742783178, 7: 2.6457513110645907, 8: 2.8284271247461903, 9: 3.0}\n"
          ]
        }
      ]
    },
    {
      "cell_type": "markdown",
      "source": [
        "A generator is a special type of function which does not return a single value, instead, it returns an iterator object with a sequence of values. In a generator function, a yield statement is used rather than a return statement. Let's genereate  fibinaci numbers using the fibinaci squence. "
      ],
      "metadata": {
        "id": "-yLOuxGjs-wq"
      }
    },
    {
      "cell_type": "code",
      "source": [
        "import math\n",
        "\n",
        "'''\n",
        "def fib(count):\n",
        "  a, b = 0, 1\n",
        "  while count: \n",
        "    yield a      #the function pauses execution instead of ending it\n",
        "    a, b = b, b+a\n",
        "    count -=1\n",
        "'''\n",
        "\n",
        "def fib():\n",
        "  a, b = 0, 1\n",
        "  while True: \n",
        "    yield a \n",
        "    a, b = b, b+a\n",
        "\n",
        "\n",
        "#generator object \n",
        "#gen = fib(10)\n",
        " \n",
        "# gen = fib(math.inf)\n",
        "\n",
        "#we can use this in a loop\n",
        "#for i in fib(50): \n",
        " #print(i)\n",
        "\n",
        "gen = fib()\n",
        "\n",
        "for i in gen: \n",
        "  if i > 9000:\n",
        "    break\n",
        "  print(i)\n",
        "\n",
        "#[math.sqrt(i) for i in gen]\n",
        "\n",
        "import itertools\n",
        "#pass a generarot object to the islice function and to a list\n",
        "print(list(itertools.islice(fib(), 20)))\n"
      ],
      "metadata": {
        "colab": {
          "base_uri": "https://localhost:8080/"
        },
        "id": "X8LrHJ-Vs93n",
        "outputId": "8c34f554-99ea-4ba4-c387-fda19839a107"
      },
      "execution_count": null,
      "outputs": [
        {
          "output_type": "stream",
          "name": "stdout",
          "text": [
            "0\n",
            "1\n",
            "1\n",
            "2\n",
            "3\n",
            "5\n",
            "8\n",
            "13\n",
            "21\n",
            "34\n",
            "55\n",
            "89\n",
            "144\n",
            "233\n",
            "377\n",
            "610\n",
            "987\n",
            "1597\n",
            "2584\n",
            "4181\n",
            "6765\n",
            "[0, 1, 1, 2, 3, 5, 8, 13, 21, 34, 55, 89, 144, 233, 377, 610, 987, 1597, 2584, 4181]\n"
          ]
        }
      ]
    }
  ]
}