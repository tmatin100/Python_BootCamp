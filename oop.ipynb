{
  "nbformat": 4,
  "nbformat_minor": 0,
  "metadata": {
    "colab": {
      "name": "oop.ipynb",
      "provenance": [],
      "collapsed_sections": [],
      "mount_file_id": "12okspHumTaUWOe3n6--8NE5W-NOoNhHe",
      "authorship_tag": "ABX9TyPfSloMQhnvTtEo0iZMcMgH",
      "include_colab_link": true
    },
    "kernelspec": {
      "name": "python3",
      "display_name": "Python 3"
    },
    "language_info": {
      "name": "python"
    }
  },
  "cells": [
    {
      "cell_type": "markdown",
      "metadata": {
        "id": "view-in-github",
        "colab_type": "text"
      },
      "source": [
        "<a href=\"https://colab.research.google.com/github/tmatin100/Python_BootCamp/blob/main/oop.ipynb\" target=\"_parent\"><img src=\"https://colab.research.google.com/assets/colab-badge.svg\" alt=\"Open In Colab\"/></a>"
      ]
    },
    {
      "cell_type": "markdown",
      "source": [
        "#**Intro to Classes and Objects**\n",
        "\n",
        "A class is a blueprint for an object, ex. like a cookie cutter\n",
        "\n",
        "An object is what we can create using a class ex. the actual cookie. \n",
        "\n",
        " a metod is a function created inside of a class hence we use the . notaiton to invoke them. ex. .get().\n",
        "funcitons are stand alone so we just use the funciton name to invoke them. ex. print()\n"
      ],
      "metadata": {
        "id": "r0Wvws5mNTpr"
      }
    },
    {
      "cell_type": "code",
      "execution_count": null,
      "metadata": {
        "colab": {
          "base_uri": "https://localhost:8080/"
        },
        "id": "w9_amh-9Ny-t",
        "outputId": "6185b8db-66ce-4f08-e9c0-948a2f94c969"
      },
      "outputs": [
        {
          "output_type": "stream",
          "name": "stdout",
          "text": [
            "<__main__.Person object at 0x7f7798812dd0>\n",
            "<__main__.Person object at 0x7f7798812f50>\n",
            "Tamzidul 37\n",
            "Asif 45\n",
            "Hello, my name is Tamzidul. My age is 37 PersonType.admin\n",
            "Hello, my name is Asif. My age is 45 PersonType.super_user\n"
          ]
        }
      ],
      "source": [
        "from enum import Enum\n",
        "\n",
        "# lets create an enum class \n",
        "class PersonType(Enum):\n",
        "    admin = 0 \n",
        "    user = 1\n",
        "    super_user = 2\n",
        "\n",
        "# The syntax to create a class\n",
        "\n",
        "class Person: \n",
        "  def __init__(self, name, age, person_type):\n",
        "    self.name = name\n",
        "    self.age = age\n",
        "    self.person_type = person_type\n",
        "  \n",
        "  def greet(self):\n",
        "      print(\"Hello, my name is \" + self.name + \". My age is \" + str(self.age)+\" \"+str(self.person_type))\n",
        "\n",
        "  #nested class\n",
        "  class PersonType(Enum):\n",
        "    admin = 0 \n",
        "    user = 1\n",
        "    super_user = 2\n",
        "\n",
        "#the synatax to create an object. In this case we are using the Person class to \n",
        "#create a person object by assiging it to a variable p\n",
        "\n",
        "# lets use the enum class PersonType in our p1 object \n",
        "p1 = Person(\"Tamzidul\", 37, PersonType.admin)\n",
        "\n",
        "#lets use the nested enum class PerstonType in our p2 object\n",
        "p2 = Person(\"Asif\", 45, Person.PersonType.super_user)\n",
        "\n",
        "\n",
        "\n",
        "print(p1)\n",
        "print(p2)\n",
        "\n",
        "#lets access the .name and .age attributes in our new objects\n",
        "print(p1.name, p1.age)\n",
        "print(p2.name, p2.age)\n",
        "\n",
        "# we can use the .greet() method  on the p1 and p2 objets \n",
        "p1.greet()\n",
        "p2.greet()\n"
      ]
    },
    {
      "cell_type": "markdown",
      "source": [
        "#**Project**\n",
        "**Let's create two clasess, one for the camareas and one for thier poistions. Then, we will use a position object inside our camera class.**"
      ],
      "metadata": {
        "id": "awLoVLq1NkfW"
      }
    },
    {
      "cell_type": "code",
      "source": [
        "from enum import Enum \n",
        "\n",
        "#Lets create a position class for the camera positions\n",
        "class Position: \n",
        "  def __init__(self, pan, tilt, zoom):\n",
        "    self.pan = pan \n",
        "    self.tilt = tilt\n",
        "    self.zoom = zoom\n",
        "\n",
        "  #we'll use this log method to print the attributes, assuming they are integers, so we \n",
        "  # are going to cast them into strings\n",
        "  def log(self):\n",
        "    print(str(self.pan), str(self.tilt), str(self.zoom))\n",
        "\n",
        "#lets create a p object for the positions and test it out\n",
        "p = Position(10,11,12)\n",
        "\n",
        "#let's log the camera poistions to print them out\n",
        "#p.log()\n",
        "\n",
        "# Let's create the camera class for the cameras \n",
        "class Camera: \n",
        "  def __init__(self, serial_number, position, camera_type): \n",
        "    self.serial_number = serial_number\n",
        "    self.position = position\n",
        "    self.camera_type = camera_type\n",
        "  \n",
        "  def log(self):\n",
        "    print(self.serial_number, str(self.camera_type))\n",
        "    self.position.log()  # we are invoking the perious log method here for the poistion\n",
        "\n",
        "  #lets create a nested class for the camera types thats going to be used in the Camera class\n",
        "  class CamerType(Enum):\n",
        "    ptz = 0 \n",
        "    eptz = 1\n",
        "    stationary = 2\n",
        "\n",
        "#lets create our camera object, we are gong ot pass in the position object p for the position paramater for the Camera object\n",
        "c = Camera(\"abc123\", p, Camera.CamerType.eptz )\n",
        "\n",
        "c.log()"
      ],
      "metadata": {
        "colab": {
          "base_uri": "https://localhost:8080/"
        },
        "id": "c3p0Zs7ONpHZ",
        "outputId": "63230187-062b-4cde-9d63-915eb71cf600"
      },
      "execution_count": null,
      "outputs": [
        {
          "output_type": "stream",
          "name": "stdout",
          "text": [
            "abc123 CamerType.eptz\n",
            "10 11 12\n"
          ]
        }
      ]
    },
    {
      "cell_type": "markdown",
      "source": [
        "#**Overriding Methods**\n",
        "**We can override methods get custom behaviors to our custom classes. By default methods inside of python are virtual, we just create a method and if that method already exists from inherience then we are just giving it a new implementation of that method. **\n",
        "\n"
      ],
      "metadata": {
        "id": "q_MS6LV4N2JG"
      }
    },
    {
      "cell_type": "code",
      "source": [
        "class Person:\n",
        "  def __init__(self, name):\n",
        "    self.name = name\n",
        "\n",
        "  def __str__(self):\n",
        "    return self.name\n",
        "\n",
        "  def __eq__(self, other):\n",
        "    return self.name == other.name\n",
        "\n",
        "    #we can override hasing\n",
        "    __hash__ = None\n",
        "    \n",
        "  #def __hash__(self):\n",
        "   # return(hash(self.name)\n",
        "    \n",
        "  \n",
        "p = Person(\"Aakash\")\n",
        "print(p)\n",
        "\n",
        "# lets create two objects with the same values \n",
        "p1 = Person(\"Aakash\")\n",
        "p2 = Person(\"Aakash\")\n",
        "\n",
        "# we can see that the two objects with the same value are not the same in the memory locatinos\n",
        "print(id(p1), id(p2))\n",
        "\n",
        "# Bothe the is and the ==  operators checks for the memory location by default\n",
        "print(p1 is p2)\n",
        "#print(p1 == p2)\n",
        "\n",
        "#however we sometime want to comapre just the values of the objects, and thats\n",
        "#when we can use the __eq__ method as seen above. This makes the value of both objects true. \n",
        "  #def __eq__(self, other):\n",
        "   # return self.name == other.name\n",
        "\n",
        "print(p1 == p2)\n",
        "print()\n",
        "\n",
        "# hasing override example __hash = None\n",
        "p1 = Person(\"Asif\")\n",
        "p2 = Person(\"Tamzidul\")\n",
        "\n",
        "print(id(p1), id(p2))\n",
        "print(p1 is p2)\n",
        "\n",
        "#this will give us an error \n",
        "#people {p1, p2}\n",
        "\n",
        "#for dictionaies we can use this for the value part, but not \n",
        "#the key this will not give us any error\n",
        "people  = {\"person\": p2}\n",
        "\n",
        "print(people)\n"
      ],
      "metadata": {
        "colab": {
          "base_uri": "https://localhost:8080/"
        },
        "id": "D2CS3XcnN-Fp",
        "outputId": "7f450d6f-19fc-4e2b-da6c-0a5ac5bd6d91"
      },
      "execution_count": null,
      "outputs": [
        {
          "output_type": "stream",
          "name": "stdout",
          "text": [
            "Aakash\n",
            "140151698076048 140151634891088\n",
            "False\n",
            "True\n",
            "\n",
            "140151635366800 140151635367376\n",
            "False\n",
            "{'person': <__main__.Person object at 0x7f779870d5d0>}\n"
          ]
        }
      ]
    },
    {
      "cell_type": "markdown",
      "source": [
        "#**Project**\n",
        "**Let's override some methods inside of our classes.**\n"
      ],
      "metadata": {
        "id": "lVz-cvHRZ2nR"
      }
    },
    {
      "cell_type": "code",
      "source": [
        "from enum import Enum \n",
        "\n",
        "class Position: \n",
        "  def __init__(self, pan, tilt, zoom):\n",
        "    self.pan = pan \n",
        "    self.tilt = tilt\n",
        "    self.zoom = zoom\n",
        "   \n",
        "  # Let's start by overriding __str__ method in the poisition class \n",
        "  def __str__(self):\n",
        "    return f\"Pan {str(self.pan)}. Tilt: {str(self.tilt)}. Zoom: {str(self.zoom)}.\"\n",
        "  # Let's override the __eq__ method\n",
        "  def __eq__(self, other):\n",
        "    return self.pan == other.pan and self. tilt == other.tilt and self.zoom ==other.zoom \n",
        "      \n",
        "\n",
        "\n",
        "#testing __str__\n",
        "p1 = Position(10,11,12)\n",
        "\n",
        "#lets test the  __eq__ overdie method\n",
        "p1 = Position(10, 11, 12)\n",
        "p2 = Position(10, 11, 12)\n",
        "print(p1)\n",
        "print(p2)\n",
        "#runnint this we get true \n",
        "print(p1 == p2)\n",
        "\n",
        "\n",
        "class Camera: \n",
        "  def __init__(self, serial_number, position, camera_type): \n",
        "    self.serial_number = serial_number\n",
        "    self.position = position\n",
        "    self.camera_type = camera_type\n",
        "  \n",
        "  def log(self):\n",
        "    print(self.serial_number, str(self.camera_type))\n",
        "    self.position.log()  # we are invoking the perious log method here for the poistion\n",
        "    \n",
        "  #using method overide to return a f string\n",
        "  def __str__(self):\n",
        "    return f\"Serial number: {self.serial_number}. Camera type: {self.camera_type}. \" + self.position.__str__()\n",
        "  \n",
        "  #using method override to evaluate two values \n",
        "  def __eq__(self, other):\n",
        "    return self.serial_number == other.serial_number and self.position == other.position and self.camera_type == other.camera_type\n",
        "\n",
        "\n",
        "  class CamerType(Enum):\n",
        "    ptz = 0 \n",
        "    eptz = 1\n",
        "    stationary = 2\n",
        "\n",
        "\n",
        "#test it out\n",
        "c1 = Camera(\"abc123\", p1, Camera.CamerType.eptz )\n",
        "c2 =  Camera(\"abc123\", p1, Camera.CamerType.eptz )\n",
        "print(c1)\n",
        "print(c2)\n",
        "print(c1 == c2)\n",
        "\n"
      ],
      "metadata": {
        "colab": {
          "base_uri": "https://localhost:8080/"
        },
        "id": "3TpQXh25Z1wv",
        "outputId": "5b01d672-aa9c-45aa-a493-5ddb9ac08013"
      },
      "execution_count": null,
      "outputs": [
        {
          "output_type": "stream",
          "name": "stdout",
          "text": [
            "Pan 10. Tilt: 11. Zoom: 12.\n",
            "Pan 10. Tilt: 11. Zoom: 12.\n",
            "True\n",
            "Serial number: abc123. Camera type: CamerType.eptz. Pan 10. Tilt: 11. Zoom: 12.\n",
            "Serial number: abc123. Camera type: CamerType.eptz. Pan 10. Tilt: 11. Zoom: 12.\n",
            "True\n"
          ]
        }
      ]
    },
    {
      "cell_type": "markdown",
      "source": [
        "\n",
        "\n",
        "\n",
        "#**Class Level Variables (_static_) and Reading Files**\n",
        "\n",
        "If we define a variable we do it in side the class. \n",
        "\n",
        "If we define a function do  not pass in self to keep at a class level, as we normally would."
      ],
      "metadata": {
        "id": "IRKNLh6ABEFL"
      }
    },
    {
      "cell_type": "code",
      "source": [
        "class Person:\n",
        "  #lets create a class level variable right befor the init method\n",
        "  max = 300\n",
        "  \n",
        "  #lets create a class level method\n",
        "  # it needs to be before the init method and\n",
        "  #we dont pass the \"self\" variable on class level methods\n",
        "  def simple_example():\n",
        "    print(5)\n",
        "\n",
        "  def __init__(self, name):\n",
        "    self.name = name\n",
        "\n",
        "#lets create two objects\n",
        "p1 = Person (\"Tamziudl\")\n",
        "p2 = Person(\"Matin\")\n",
        "\n",
        "#the value of max is now available on the Person class and the p1 and p2 objects\n",
        "print(Person.max, p1.max, p2.max)\n",
        "\n",
        "#we can do the same for our method\n",
        "Person.simple_example()\n",
        "\n",
        "\n",
        "#Here is the thing to watch out for, it's shared among all the instances\n",
        "# so if we change something here it will change everywhere.\n",
        "\n",
        "Person.max = 250\n",
        "\n",
        "print(Person.max, p1.max, p2.max)\n",
        "\n",
        "\n",
        "# read from a file , we can use the open function to open a file. \n",
        "# f refers to the file were opening,  in this case data.txt\n",
        "\n",
        "#with open('data.txt') as f:\n",
        " # data = f.read()\n",
        "\n",
        "#print(data)\n",
        "\n",
        "\n",
        "\n",
        "\n",
        "\n"
      ],
      "metadata": {
        "colab": {
          "base_uri": "https://localhost:8080/"
        },
        "id": "CnshC_xmBAC8",
        "outputId": "708a68dc-92a0-441b-b33e-f7f6b9ebc8ec"
      },
      "execution_count": null,
      "outputs": [
        {
          "output_type": "stream",
          "name": "stdout",
          "text": [
            "300 300 300\n",
            "5\n",
            "250 250 250\n"
          ]
        }
      ]
    },
    {
      "cell_type": "markdown",
      "source": [
        "#**Read Object from txt File**"
      ],
      "metadata": {
        "id": "HTdkYeSJw_Q7"
      }
    },
    {
      "cell_type": "code",
      "source": [
        "from enum import Enum \n",
        "\n",
        "\n",
        "class Position: \n",
        "  def __init__(self, pan, tilt, zoom):\n",
        "    self.pan = pan \n",
        "    self.tilt = tilt\n",
        "    self.zoom = zoom\n",
        "   \n",
        "  \n",
        "class Camera: \n",
        "  \n",
        "  #lets create a new function withouth pasing in the self variable:\n",
        "  def parse_camera():\n",
        "    with open(\"cameras.txt\") as f: \n",
        "      d = f.read().split(\" \")\n",
        "      serial_number = d[0]\n",
        "      position = Position(int(d[1]), int(d[2]), int(d[3]))\n",
        "      camera_type = Camera.CameraType[d[4]]\n",
        "    return Camera(serial_number, position, camera_type)\n",
        "\n",
        "      \n",
        "  def __init__(self, serial_number, position, camera_type): \n",
        "    self.serial_number = serial_number\n",
        "    self.position = position\n",
        "    self.camera_type = camera_type\n",
        "    \n",
        "  def __str__(self):\n",
        "        return f\"Serial number: {self.serial_number}. Camera type: {self.camera_type}. \" + self.position.__str__()\n",
        "\n",
        "  def __eq__(self, other):\n",
        "        return self.serial_number == other.serial_number and self.position == other.position and self.camera_type == other.camera_type\n",
        "  \n",
        "  __hash__ = None\n",
        "\n",
        "  class CameraType(Enum):\n",
        "    ptz = 0 \n",
        "    eptz = 1\n",
        "    stationary = 2\n",
        "\n",
        "c = Camera.parse_camera()\n",
        "print(c)"
      ],
      "metadata": {
        "colab": {
          "base_uri": "https://localhost:8080/"
        },
        "outputId": "2a716446-f875-4288-801b-10e05347ff87",
        "id": "ENiVr_l2CfJO"
      },
      "execution_count": null,
      "outputs": [
        {
          "output_type": "stream",
          "name": "stdout",
          "text": [
            "Serial number: abc-23224. Camera type: CameraType.eptz. <__main__.Position object at 0x7f26d437b490>\n"
          ]
        }
      ]
    }
  ]
}