{
  "nbformat": 4,
  "nbformat_minor": 0,
  "metadata": {
    "colab": {
      "name": "LinkedinList-I.ipynb",
      "provenance": [],
      "collapsed_sections": [],
      "authorship_tag": "ABX9TyOCyneURhJCYmYi8wn/cRPo",
      "include_colab_link": true
    },
    "kernelspec": {
      "name": "python3",
      "display_name": "Python 3"
    },
    "language_info": {
      "name": "python"
    }
  },
  "cells": [
    {
      "cell_type": "markdown",
      "metadata": {
        "id": "view-in-github",
        "colab_type": "text"
      },
      "source": [
        "<a href=\"https://colab.research.google.com/github/tmatin100/Python_BootCamp/blob/main/LinkedinList_I.ipynb\" target=\"_parent\"><img src=\"https://colab.research.google.com/assets/colab-badge.svg\" alt=\"Open In Colab\"/></a>"
      ]
    },
    {
      "cell_type": "markdown",
      "source": [
        "##Intro to Linked Lists\n",
        "\n",
        "**A linked list is a linear collection of data elements whose order is not given by their physical placement in memory. Instead, each element points to the next. It is a data structure consisting of a collection of nodes which together represent a sequence. In its most basic form, each node contains: data, and a reference (in other words, a link) to the next node in the sequence.**"
      ],
      "metadata": {
        "id": "UZAUdndkJFft"
      }
    },
    {
      "cell_type": "code",
      "source": [
        "# Node class - is going to cointain information speciefic to an indivual box\n",
        "# such as a vairable to contain data and a variable to point to the next node\n",
        "# start = Node(5)\n",
        "\n",
        "#LinkedList class -  is going to contain things that talks about the entire linkedin list \n",
        "#ex. sort(), find(), size() etc. methods\n",
        "# Start data, next --> data, next ---> data, next is unasigned\n",
        "\n",
        "# Let's create a node class\n",
        "class Node: \n",
        "  def __init__(self, data, next_node=None):\n",
        "    self.data = data\n",
        "    self.next = next_node   #defines the next node , which defaults to None\n",
        "\n",
        "node = Node(5)\n",
        "print(node.next)    # next node has a None value since we did not pass anything here.\n",
        "\n",
        "node = Node(5, Node(10)) # we can pass in another node as the next value\n",
        "print(node.next.data)   # we can access the next node's data this way\n",
        "\n",
        "\n",
        "\n",
        "#Lets create the Linked List class, that keeps track of the starting node \n",
        "class LinkedList: \n",
        "  def __init__(self, start):\n",
        "    self.start = start\n",
        "\n",
        "\n",
        "# creaing an inline node object and passing in the next_node variable value Node(10)\n",
        "linked_list = LinkedList(Node(5))\n",
        "linked_list.start.next=Node(20)\n",
        "print(linked_list.start.next.data)\n",
        "\n",
        "#second linkedin list\n",
        "linked_list2 = LinkedList(Node(\"hello\"))\n",
        "print(linked_list2.start.data)\n",
        "\n",
        "#becasue the the node funcion has the ablity to pass in a next node, we can keep \n",
        "#adding nodes by nesting them inside each other like this.\n",
        "linkedin_list3 = LinkedList(Node(5, Node(10, Node(15, Node(20, Node(25))))))\n",
        "print(linkedin_list3.start.data)\n",
        "print(linkedin_list3.start.next.next.next.next.data)\n",
        "\n",
        "\n",
        "\n",
        "\n"
      ],
      "metadata": {
        "colab": {
          "base_uri": "https://localhost:8080/"
        },
        "id": "i-aO9x7PJJx5",
        "outputId": "dbd3606d-a5ac-4e4c-96df-2443a00b5b47"
      },
      "execution_count": null,
      "outputs": [
        {
          "output_type": "stream",
          "name": "stdout",
          "text": [
            "None\n",
            "10\n",
            "20\n",
            "hello\n",
            "5\n",
            "25\n"
          ]
        }
      ]
    },
    {
      "cell_type": "code",
      "source": [
        "class Node: \n",
        "  def __init__(self, data, next_node=None):\n",
        "    self.data = data\n",
        "    self.next = next_node  \n",
        "\n",
        "  def __repr__(self):   #creating a string representation of a node\n",
        "    return str(self.data)  #returns a string represention of the data \n",
        "\n",
        "\n",
        "class LinkedList: \n",
        "  def __init__(self, start):\n",
        "    self.start = start\n",
        "\n",
        "#we can use that same method over and over again for each node in our linked list \n",
        "  def __repr__(self):\n",
        "    string = \" \"\n",
        "    node = self.start\n",
        "    while True: \n",
        "      string += str(node) + \" \"\n",
        "      if node.next is None: \n",
        "        break\n",
        "      node = node.next \n",
        "    return string \n",
        "\n",
        "  def get(self, index):\n",
        "    node = self.start\n",
        "    for i in range(index):\n",
        "      node = node.next\n",
        "    return node.data\n",
        "\n",
        "  def __len__(self):                # lenght of the linked list \n",
        "    length = 0 \n",
        "    node = self.start\n",
        "    while True: \n",
        "      length += 1\n",
        "      if node.next is None: \n",
        "        break\n",
        "      node = node.next\n",
        "    return length\n",
        "\n",
        "\n",
        "linked_list = LinkedList(Node(5, Node(10, Node(15, Node(20, Node(25))))))\n",
        "print(linked_list)\n",
        "print(len(linked_list))  #invokes the len function \n",
        "\n",
        "#add a new datapoint at the bigenning\n",
        "linked_list.start = Node(0, next_node= linked_list.start)\n",
        "print(linked_list)\n",
        "\n",
        "linked_list.start = Node(0, )\n",
        "#print(linked_list.get(2))\n",
        "\n",
        "\n",
        "\n"
      ],
      "metadata": {
        "colab": {
          "base_uri": "https://localhost:8080/"
        },
        "id": "MF0BEokHwJJU",
        "outputId": "a985618e-7607-4d24-bf5f-869bec07832c"
      },
      "execution_count": null,
      "outputs": [
        {
          "output_type": "stream",
          "name": "stdout",
          "text": [
            " 5 10 15 20 25 \n",
            "5\n",
            " 0 5 10 15 20 25 \n"
          ]
        }
      ]
    }
  ]
}